{
 "cells": [
  {
   "cell_type": "markdown",
   "metadata": {},
   "source": [
    "# Principal Components Analysis\n",
    "\n",
    "Principal Components Analysis (PCA) is an unsupervised learning method that can be used to visualize high-dimensional data by transforming it into a lower number of transformed dimensions (principal components). It can also be used to visually inspect for clusters of observations once the data points are described by the transformed dimensions. \n",
    "\n",
    "Each new dimension is a linear combination of the original features. In that sense, PCA is not a feature reduction method as each principal component utilizes information from every feature. Also, the principal components are computed in a way that is agnostic to their relationship with the response variable. Instead, the first principal component is calculated such as to fit a hyperplance in an n-dimensional space that minimizes the sum of squared errors between the the data points and the hyperplane.   \n",
    "\n",
    "In this module we will demonstrate pre-processing steps and useful visualization plots in R. \n",
    "\n",
    "(Principal Components Regression and Partial Least squares methods will be discussed separately in the context of supervised learning)\n",
    "\n",
    "*References:*\n",
    "\n",
    "+ Introduction to Statistical Learning by James, Witten, Hastie, and Tibshirani\n",
    "+ Applied Predictive Modeling by Max Kuhn \n",
    "+ Blog posts:\n",
    "\n",
    "https://tgmstat.wordpress.com/2013/11/28/computing-and-visualizing-pca-in-r/\n",
    "\n",
    "http://www.win-vector.com/blog/2016/05/pcr_part1_xonly/ \n",
    "\n",
    "https://github.com/WinVector/Examples/blob/master/PCR/XonlyPCA.Rmd\n",
    "\n",
    "*Dataset source:*\n",
    "\n",
    "UCI Machine Learning Respository - Communities and Crime\n",
    "\n",
    "http://archive.ics.uci.edu/ml/datasets/Communities+and+Crime\n",
    "\n",
    "The dataset contains 122 features that were considered to have a plausible association with crime rates. Features include information at the community level covering age, race, income, education and housing, among other community characteristics. \n",
    "\n",
    "Most of the variables are numeric variables and, therefore, PCA is applicable. \n",
    "\n",
    "## Load and examine the data\n",
    "\n",
    "The data was formatted for loading in Weka. To load the data in R, we first copied the variable names in a csv file (varnames) and the data itself in a text file (crime). After reading in the files into R, we assigned the varnames vector to the crime dataframe in R."
   ]
  },
  {
   "cell_type": "code",
   "execution_count": 2,
   "metadata": {
    "collapsed": false
   },
   "outputs": [
    {
     "data": {
      "text/html": [
       "128"
      ],
      "text/latex": [
       "128"
      ],
      "text/markdown": [
       "128"
      ],
      "text/plain": [
       "[1] 128"
      ]
     },
     "metadata": {},
     "output_type": "display_data"
    },
    {
     "data": {
      "text/html": [
       "<ol class=list-inline>\n",
       "\t<li>state</li>\n",
       "\t<li>county</li>\n",
       "\t<li>community</li>\n",
       "\t<li>communityname</li>\n",
       "\t<li>fold</li>\n",
       "\t<li>population</li>\n",
       "\t<li>householdsize</li>\n",
       "\t<li>racepctblack</li>\n",
       "\t<li>racePctWhite</li>\n",
       "\t<li>racePctAsian</li>\n",
       "\t<li>racePctHisp</li>\n",
       "\t<li>agePct12t21</li>\n",
       "\t<li>agePct12t29</li>\n",
       "\t<li>agePct16t24</li>\n",
       "\t<li>agePct65up</li>\n",
       "\t<li>numbUrban</li>\n",
       "\t<li>pctUrban</li>\n",
       "\t<li>medIncome</li>\n",
       "\t<li>pctWWage</li>\n",
       "\t<li>pctWFarmSelf</li>\n",
       "\t<li>pctWInvInc</li>\n",
       "\t<li>pctWSocSec</li>\n",
       "\t<li>pctWPubAsst</li>\n",
       "\t<li>pctWRetire</li>\n",
       "\t<li>medFamInc</li>\n",
       "\t<li>perCapInc</li>\n",
       "\t<li>whitePerCap</li>\n",
       "\t<li>blackPerCap</li>\n",
       "\t<li>indianPerCap</li>\n",
       "\t<li>AsianPerCap</li>\n",
       "\t<li>OtherPerCap</li>\n",
       "\t<li>HispPerCap</li>\n",
       "\t<li>NumUnderPov</li>\n",
       "\t<li>PctPopUnderPov</li>\n",
       "\t<li>PctLess9thGrade</li>\n",
       "\t<li>PctNotHSGrad</li>\n",
       "\t<li>PctBSorMore</li>\n",
       "\t<li>PctUnemployed</li>\n",
       "\t<li>PctEmploy</li>\n",
       "\t<li>PctEmplManu</li>\n",
       "\t<li>PctEmplProfServ</li>\n",
       "\t<li>PctOccupManu</li>\n",
       "\t<li>PctOccupMgmtProf</li>\n",
       "\t<li>MalePctDivorce</li>\n",
       "\t<li>MalePctNevMarr</li>\n",
       "\t<li>FemalePctDiv</li>\n",
       "\t<li>TotalPctDiv</li>\n",
       "\t<li>PersPerFam</li>\n",
       "\t<li>PctFam2Par</li>\n",
       "\t<li>PctKids2Par</li>\n",
       "\t<li>PctYoungKids2Par</li>\n",
       "\t<li>PctTeen2Par</li>\n",
       "\t<li>PctWorkMomYoungKids</li>\n",
       "\t<li>PctWorkMom</li>\n",
       "\t<li>NumIlleg</li>\n",
       "\t<li>PctIlleg</li>\n",
       "\t<li>NumImmig</li>\n",
       "\t<li>PctImmigRecent</li>\n",
       "\t<li>PctImmigRec5</li>\n",
       "\t<li>PctImmigRec8</li>\n",
       "\t<li>PctImmigRec10</li>\n",
       "\t<li>PctRecentImmig</li>\n",
       "\t<li>PctRecImmig5</li>\n",
       "\t<li>PctRecImmig8</li>\n",
       "\t<li>PctRecImmig10</li>\n",
       "\t<li>PctSpeakEnglOnly</li>\n",
       "\t<li>PctNotSpeakEnglWell</li>\n",
       "\t<li>PctLargHouseFam</li>\n",
       "\t<li>PctLargHouseOccup</li>\n",
       "\t<li>PersPerOccupHous</li>\n",
       "\t<li>PersPerOwnOccHous</li>\n",
       "\t<li>PersPerRentOccHous</li>\n",
       "\t<li>PctPersOwnOccup</li>\n",
       "\t<li>PctPersDenseHous</li>\n",
       "\t<li>PctHousLess3BR</li>\n",
       "\t<li>MedNumBR</li>\n",
       "\t<li>HousVacant</li>\n",
       "\t<li>PctHousOccup</li>\n",
       "\t<li>PctHousOwnOcc</li>\n",
       "\t<li>PctVacantBoarded</li>\n",
       "\t<li>PctVacMore6Mos</li>\n",
       "\t<li>MedYrHousBuilt</li>\n",
       "\t<li>PctHousNoPhone</li>\n",
       "\t<li>PctWOFullPlumb</li>\n",
       "\t<li>OwnOccLowQuart</li>\n",
       "\t<li>OwnOccMedVal</li>\n",
       "\t<li>OwnOccHiQuart</li>\n",
       "\t<li>RentLowQ</li>\n",
       "\t<li>RentMedian</li>\n",
       "\t<li>RentHighQ</li>\n",
       "\t<li>MedRent</li>\n",
       "\t<li>MedRentPctHousInc</li>\n",
       "\t<li>MedOwnCostPctInc</li>\n",
       "\t<li>MedOwnCostPctIncNoMtg</li>\n",
       "\t<li>NumInShelters</li>\n",
       "\t<li>NumStreet</li>\n",
       "\t<li>PctForeignBorn</li>\n",
       "\t<li>PctBornSameState</li>\n",
       "\t<li>PctSameHouse85</li>\n",
       "\t<li>PctSameCity85</li>\n",
       "\t<li>PctSameState85</li>\n",
       "\t<li>LemasSwornFT</li>\n",
       "\t<li>LemasSwFTPerPop</li>\n",
       "\t<li>LemasSwFTFieldOps</li>\n",
       "\t<li>LemasSwFTFieldPerPop</li>\n",
       "\t<li>LemasTotalReq</li>\n",
       "\t<li>LemasTotReqPerPop</li>\n",
       "\t<li>PolicReqPerOffic</li>\n",
       "\t<li>PolicPerPop</li>\n",
       "\t<li>RacialMatchCommPol</li>\n",
       "\t<li>PctPolicWhite</li>\n",
       "\t<li>PctPolicBlack</li>\n",
       "\t<li>PctPolicHisp</li>\n",
       "\t<li>PctPolicAsian</li>\n",
       "\t<li>PctPolicMinor</li>\n",
       "\t<li>OfficAssgnDrugUnits</li>\n",
       "\t<li>NumKindsDrugsSeiz</li>\n",
       "\t<li>PolicAveOTWorked</li>\n",
       "\t<li>LandArea</li>\n",
       "\t<li>PopDens</li>\n",
       "\t<li>PctUsePubTrans</li>\n",
       "\t<li>PolicCars</li>\n",
       "\t<li>PolicOperBudg</li>\n",
       "\t<li>LemasPctPolicOnPatr</li>\n",
       "\t<li>LemasGangUnitDeploy</li>\n",
       "\t<li>LemasPctOfficDrugUn</li>\n",
       "\t<li>PolicBudgPerPop</li>\n",
       "\t<li>ViolentCrimesPerPop</li>\n",
       "</ol>\n"
      ],
      "text/latex": [
       "\\begin{enumerate*}\n",
       "\\item state\n",
       "\\item county\n",
       "\\item community\n",
       "\\item communityname\n",
       "\\item fold\n",
       "\\item population\n",
       "\\item householdsize\n",
       "\\item racepctblack\n",
       "\\item racePctWhite\n",
       "\\item racePctAsian\n",
       "\\item racePctHisp\n",
       "\\item agePct12t21\n",
       "\\item agePct12t29\n",
       "\\item agePct16t24\n",
       "\\item agePct65up\n",
       "\\item numbUrban\n",
       "\\item pctUrban\n",
       "\\item medIncome\n",
       "\\item pctWWage\n",
       "\\item pctWFarmSelf\n",
       "\\item pctWInvInc\n",
       "\\item pctWSocSec\n",
       "\\item pctWPubAsst\n",
       "\\item pctWRetire\n",
       "\\item medFamInc\n",
       "\\item perCapInc\n",
       "\\item whitePerCap\n",
       "\\item blackPerCap\n",
       "\\item indianPerCap\n",
       "\\item AsianPerCap\n",
       "\\item OtherPerCap\n",
       "\\item HispPerCap\n",
       "\\item NumUnderPov\n",
       "\\item PctPopUnderPov\n",
       "\\item PctLess9thGrade\n",
       "\\item PctNotHSGrad\n",
       "\\item PctBSorMore\n",
       "\\item PctUnemployed\n",
       "\\item PctEmploy\n",
       "\\item PctEmplManu\n",
       "\\item PctEmplProfServ\n",
       "\\item PctOccupManu\n",
       "\\item PctOccupMgmtProf\n",
       "\\item MalePctDivorce\n",
       "\\item MalePctNevMarr\n",
       "\\item FemalePctDiv\n",
       "\\item TotalPctDiv\n",
       "\\item PersPerFam\n",
       "\\item PctFam2Par\n",
       "\\item PctKids2Par\n",
       "\\item PctYoungKids2Par\n",
       "\\item PctTeen2Par\n",
       "\\item PctWorkMomYoungKids\n",
       "\\item PctWorkMom\n",
       "\\item NumIlleg\n",
       "\\item PctIlleg\n",
       "\\item NumImmig\n",
       "\\item PctImmigRecent\n",
       "\\item PctImmigRec5\n",
       "\\item PctImmigRec8\n",
       "\\item PctImmigRec10\n",
       "\\item PctRecentImmig\n",
       "\\item PctRecImmig5\n",
       "\\item PctRecImmig8\n",
       "\\item PctRecImmig10\n",
       "\\item PctSpeakEnglOnly\n",
       "\\item PctNotSpeakEnglWell\n",
       "\\item PctLargHouseFam\n",
       "\\item PctLargHouseOccup\n",
       "\\item PersPerOccupHous\n",
       "\\item PersPerOwnOccHous\n",
       "\\item PersPerRentOccHous\n",
       "\\item PctPersOwnOccup\n",
       "\\item PctPersDenseHous\n",
       "\\item PctHousLess3BR\n",
       "\\item MedNumBR\n",
       "\\item HousVacant\n",
       "\\item PctHousOccup\n",
       "\\item PctHousOwnOcc\n",
       "\\item PctVacantBoarded\n",
       "\\item PctVacMore6Mos\n",
       "\\item MedYrHousBuilt\n",
       "\\item PctHousNoPhone\n",
       "\\item PctWOFullPlumb\n",
       "\\item OwnOccLowQuart\n",
       "\\item OwnOccMedVal\n",
       "\\item OwnOccHiQuart\n",
       "\\item RentLowQ\n",
       "\\item RentMedian\n",
       "\\item RentHighQ\n",
       "\\item MedRent\n",
       "\\item MedRentPctHousInc\n",
       "\\item MedOwnCostPctInc\n",
       "\\item MedOwnCostPctIncNoMtg\n",
       "\\item NumInShelters\n",
       "\\item NumStreet\n",
       "\\item PctForeignBorn\n",
       "\\item PctBornSameState\n",
       "\\item PctSameHouse85\n",
       "\\item PctSameCity85\n",
       "\\item PctSameState85\n",
       "\\item LemasSwornFT\n",
       "\\item LemasSwFTPerPop\n",
       "\\item LemasSwFTFieldOps\n",
       "\\item LemasSwFTFieldPerPop\n",
       "\\item LemasTotalReq\n",
       "\\item LemasTotReqPerPop\n",
       "\\item PolicReqPerOffic\n",
       "\\item PolicPerPop\n",
       "\\item RacialMatchCommPol\n",
       "\\item PctPolicWhite\n",
       "\\item PctPolicBlack\n",
       "\\item PctPolicHisp\n",
       "\\item PctPolicAsian\n",
       "\\item PctPolicMinor\n",
       "\\item OfficAssgnDrugUnits\n",
       "\\item NumKindsDrugsSeiz\n",
       "\\item PolicAveOTWorked\n",
       "\\item LandArea\n",
       "\\item PopDens\n",
       "\\item PctUsePubTrans\n",
       "\\item PolicCars\n",
       "\\item PolicOperBudg\n",
       "\\item LemasPctPolicOnPatr\n",
       "\\item LemasGangUnitDeploy\n",
       "\\item LemasPctOfficDrugUn\n",
       "\\item PolicBudgPerPop\n",
       "\\item ViolentCrimesPerPop\n",
       "\\end{enumerate*}\n"
      ],
      "text/markdown": [
       "1. state\n",
       "2. county\n",
       "3. community\n",
       "4. communityname\n",
       "5. fold\n",
       "6. population\n",
       "7. householdsize\n",
       "8. racepctblack\n",
       "9. racePctWhite\n",
       "10. racePctAsian\n",
       "11. racePctHisp\n",
       "12. agePct12t21\n",
       "13. agePct12t29\n",
       "14. agePct16t24\n",
       "15. agePct65up\n",
       "16. numbUrban\n",
       "17. pctUrban\n",
       "18. medIncome\n",
       "19. pctWWage\n",
       "20. pctWFarmSelf\n",
       "21. pctWInvInc\n",
       "22. pctWSocSec\n",
       "23. pctWPubAsst\n",
       "24. pctWRetire\n",
       "25. medFamInc\n",
       "26. perCapInc\n",
       "27. whitePerCap\n",
       "28. blackPerCap\n",
       "29. indianPerCap\n",
       "30. AsianPerCap\n",
       "31. OtherPerCap\n",
       "32. HispPerCap\n",
       "33. NumUnderPov\n",
       "34. PctPopUnderPov\n",
       "35. PctLess9thGrade\n",
       "36. PctNotHSGrad\n",
       "37. PctBSorMore\n",
       "38. PctUnemployed\n",
       "39. PctEmploy\n",
       "40. PctEmplManu\n",
       "41. PctEmplProfServ\n",
       "42. PctOccupManu\n",
       "43. PctOccupMgmtProf\n",
       "44. MalePctDivorce\n",
       "45. MalePctNevMarr\n",
       "46. FemalePctDiv\n",
       "47. TotalPctDiv\n",
       "48. PersPerFam\n",
       "49. PctFam2Par\n",
       "50. PctKids2Par\n",
       "51. PctYoungKids2Par\n",
       "52. PctTeen2Par\n",
       "53. PctWorkMomYoungKids\n",
       "54. PctWorkMom\n",
       "55. NumIlleg\n",
       "56. PctIlleg\n",
       "57. NumImmig\n",
       "58. PctImmigRecent\n",
       "59. PctImmigRec5\n",
       "60. PctImmigRec8\n",
       "61. PctImmigRec10\n",
       "62. PctRecentImmig\n",
       "63. PctRecImmig5\n",
       "64. PctRecImmig8\n",
       "65. PctRecImmig10\n",
       "66. PctSpeakEnglOnly\n",
       "67. PctNotSpeakEnglWell\n",
       "68. PctLargHouseFam\n",
       "69. PctLargHouseOccup\n",
       "70. PersPerOccupHous\n",
       "71. PersPerOwnOccHous\n",
       "72. PersPerRentOccHous\n",
       "73. PctPersOwnOccup\n",
       "74. PctPersDenseHous\n",
       "75. PctHousLess3BR\n",
       "76. MedNumBR\n",
       "77. HousVacant\n",
       "78. PctHousOccup\n",
       "79. PctHousOwnOcc\n",
       "80. PctVacantBoarded\n",
       "81. PctVacMore6Mos\n",
       "82. MedYrHousBuilt\n",
       "83. PctHousNoPhone\n",
       "84. PctWOFullPlumb\n",
       "85. OwnOccLowQuart\n",
       "86. OwnOccMedVal\n",
       "87. OwnOccHiQuart\n",
       "88. RentLowQ\n",
       "89. RentMedian\n",
       "90. RentHighQ\n",
       "91. MedRent\n",
       "92. MedRentPctHousInc\n",
       "93. MedOwnCostPctInc\n",
       "94. MedOwnCostPctIncNoMtg\n",
       "95. NumInShelters\n",
       "96. NumStreet\n",
       "97. PctForeignBorn\n",
       "98. PctBornSameState\n",
       "99. PctSameHouse85\n",
       "100. PctSameCity85\n",
       "101. PctSameState85\n",
       "102. LemasSwornFT\n",
       "103. LemasSwFTPerPop\n",
       "104. LemasSwFTFieldOps\n",
       "105. LemasSwFTFieldPerPop\n",
       "106. LemasTotalReq\n",
       "107. LemasTotReqPerPop\n",
       "108. PolicReqPerOffic\n",
       "109. PolicPerPop\n",
       "110. RacialMatchCommPol\n",
       "111. PctPolicWhite\n",
       "112. PctPolicBlack\n",
       "113. PctPolicHisp\n",
       "114. PctPolicAsian\n",
       "115. PctPolicMinor\n",
       "116. OfficAssgnDrugUnits\n",
       "117. NumKindsDrugsSeiz\n",
       "118. PolicAveOTWorked\n",
       "119. LandArea\n",
       "120. PopDens\n",
       "121. PctUsePubTrans\n",
       "122. PolicCars\n",
       "123. PolicOperBudg\n",
       "124. LemasPctPolicOnPatr\n",
       "125. LemasGangUnitDeploy\n",
       "126. LemasPctOfficDrugUn\n",
       "127. PolicBudgPerPop\n",
       "128. ViolentCrimesPerPop\n",
       "\n",
       "\n"
      ],
      "text/plain": [
       "  [1] state                 county                community            \n",
       "  [4] communityname         fold                  population           \n",
       "  [7] householdsize         racepctblack          racePctWhite         \n",
       " [10] racePctAsian          racePctHisp           agePct12t21          \n",
       " [13] agePct12t29           agePct16t24           agePct65up           \n",
       " [16] numbUrban             pctUrban              medIncome            \n",
       " [19] pctWWage              pctWFarmSelf          pctWInvInc           \n",
       " [22] pctWSocSec            pctWPubAsst           pctWRetire           \n",
       " [25] medFamInc             perCapInc             whitePerCap          \n",
       " [28] blackPerCap           indianPerCap          AsianPerCap          \n",
       " [31] OtherPerCap           HispPerCap            NumUnderPov          \n",
       " [34] PctPopUnderPov        PctLess9thGrade       PctNotHSGrad         \n",
       " [37] PctBSorMore           PctUnemployed         PctEmploy            \n",
       " [40] PctEmplManu           PctEmplProfServ       PctOccupManu         \n",
       " [43] PctOccupMgmtProf      MalePctDivorce        MalePctNevMarr       \n",
       " [46] FemalePctDiv          TotalPctDiv           PersPerFam           \n",
       " [49] PctFam2Par            PctKids2Par           PctYoungKids2Par     \n",
       " [52] PctTeen2Par           PctWorkMomYoungKids   PctWorkMom           \n",
       " [55] NumIlleg              PctIlleg              NumImmig             \n",
       " [58] PctImmigRecent        PctImmigRec5          PctImmigRec8         \n",
       " [61] PctImmigRec10         PctRecentImmig        PctRecImmig5         \n",
       " [64] PctRecImmig8          PctRecImmig10         PctSpeakEnglOnly     \n",
       " [67] PctNotSpeakEnglWell   PctLargHouseFam       PctLargHouseOccup    \n",
       " [70] PersPerOccupHous      PersPerOwnOccHous     PersPerRentOccHous   \n",
       " [73] PctPersOwnOccup       PctPersDenseHous      PctHousLess3BR       \n",
       " [76] MedNumBR              HousVacant            PctHousOccup         \n",
       " [79] PctHousOwnOcc         PctVacantBoarded      PctVacMore6Mos       \n",
       " [82] MedYrHousBuilt        PctHousNoPhone        PctWOFullPlumb       \n",
       " [85] OwnOccLowQuart        OwnOccMedVal          OwnOccHiQuart        \n",
       " [88] RentLowQ              RentMedian            RentHighQ            \n",
       " [91] MedRent               MedRentPctHousInc     MedOwnCostPctInc     \n",
       " [94] MedOwnCostPctIncNoMtg NumInShelters         NumStreet            \n",
       " [97] PctForeignBorn        PctBornSameState      PctSameHouse85       \n",
       "[100] PctSameCity85         PctSameState85        LemasSwornFT         \n",
       "[103] LemasSwFTPerPop       LemasSwFTFieldOps     LemasSwFTFieldPerPop \n",
       "[106] LemasTotalReq         LemasTotReqPerPop     PolicReqPerOffic     \n",
       "[109] PolicPerPop           RacialMatchCommPol    PctPolicWhite        \n",
       "[112] PctPolicBlack         PctPolicHisp          PctPolicAsian        \n",
       "[115] PctPolicMinor         OfficAssgnDrugUnits   NumKindsDrugsSeiz    \n",
       "[118] PolicAveOTWorked      LandArea              PopDens              \n",
       "[121] PctUsePubTrans        PolicCars             PolicOperBudg        \n",
       "[124] LemasPctPolicOnPatr   LemasGangUnitDeploy   LemasPctOfficDrugUn  \n",
       "[127] PolicBudgPerPop       ViolentCrimesPerPop  \n",
       "128 Levels: agePct12t21 agePct12t29 agePct16t24 agePct65up ... whitePerCap"
      ]
     },
     "metadata": {},
     "output_type": "display_data"
    }
   ],
   "source": [
    "# Load the variable names data\n",
    "varnames <- read.csv(\"~/Study projects/PCA/crime_dataset/desc.csv\", header=FALSE)[ ,1]\n",
    "length(varnames)\n",
    "varnames"
   ]
  },
  {
   "cell_type": "code",
   "execution_count": 3,
   "metadata": {
    "collapsed": false
   },
   "outputs": [
    {
     "data": {
      "text/html": [
       "<span style=white-space:pre-wrap>'There are  1994 observations and  128 variables'</span>"
      ],
      "text/latex": [
       "'There are  1994 observations and  128 variables'"
      ],
      "text/markdown": [
       "<span style=white-space:pre-wrap>'There are  1994 observations and  128 variables'</span>"
      ],
      "text/plain": [
       "[1] \"There are  1994 observations and  128 variables\""
      ]
     },
     "metadata": {},
     "output_type": "display_data"
    },
    {
     "name": "stdout",
     "output_type": "stream",
     "text": [
      "[1] \"Data is loaded correctly\"\n"
     ]
    },
    {
     "data": {
      "text/html": [
       "<table>\n",
       "<thead><tr><th scope=col>V1</th><th scope=col>V2</th><th scope=col>V3</th><th scope=col>V4</th><th scope=col>V5</th><th scope=col>V6</th><th scope=col>V7</th><th scope=col>V8</th><th scope=col>V9</th><th scope=col>V10</th><th scope=col>...</th><th scope=col>V119</th><th scope=col>V120</th><th scope=col>V121</th><th scope=col>V122</th><th scope=col>V123</th><th scope=col>V124</th><th scope=col>V125</th><th scope=col>V126</th><th scope=col>V127</th><th scope=col>V128</th></tr></thead>\n",
       "<tbody>\n",
       "\t<tr><td> 8                 </td><td>NA                 </td><td>   NA              </td><td>Lakewoodcity       </td><td>1                  </td><td>0.19               </td><td>0.33               </td><td>0.02               </td><td>0.90               </td><td>0.12               </td><td>...                </td><td>0.12               </td><td>0.26               </td><td>0.20               </td><td>0.06               </td><td>0.04               </td><td>0.9                </td><td>0.5                </td><td>0.32               </td><td>0.14               </td><td>0.20               </td></tr>\n",
       "\t<tr><td>53                 </td><td>NA                 </td><td>   NA              </td><td>Tukwilacity        </td><td>1                  </td><td>0.00               </td><td>0.16               </td><td>0.12               </td><td>0.74               </td><td>0.45               </td><td>...                </td><td>0.02               </td><td>0.12               </td><td>0.45               </td><td>  NA               </td><td>  NA               </td><td> NA                </td><td> NA                </td><td>0.00               </td><td>  NA               </td><td>0.67               </td></tr>\n",
       "\t<tr><td>24                 </td><td>NA                 </td><td>   NA              </td><td>Aberdeentown       </td><td>1                  </td><td>0.00               </td><td>0.42               </td><td>0.49               </td><td>0.56               </td><td>0.17               </td><td>...                </td><td>0.01               </td><td>0.21               </td><td>0.02               </td><td>  NA               </td><td>  NA               </td><td> NA                </td><td> NA                </td><td>0.00               </td><td>  NA               </td><td>0.43               </td></tr>\n",
       "\t<tr><td>34                 </td><td> 5                 </td><td>81440              </td><td>Willingborotownship</td><td>1                  </td><td>0.04               </td><td>0.77               </td><td>1.00               </td><td>0.08               </td><td>0.12               </td><td>...                </td><td>0.02               </td><td>0.39               </td><td>0.28               </td><td>  NA               </td><td>  NA               </td><td> NA                </td><td> NA                </td><td>0.00               </td><td>  NA               </td><td>0.12               </td></tr>\n",
       "\t<tr><td>42                 </td><td>95                 </td><td> 6096              </td><td>Bethlehemtownship  </td><td>1                  </td><td>0.01               </td><td>0.55               </td><td>0.02               </td><td>0.95               </td><td>0.09               </td><td>...                </td><td>0.04               </td><td>0.09               </td><td>0.02               </td><td>  NA               </td><td>  NA               </td><td> NA                </td><td> NA                </td><td>0.00               </td><td>  NA               </td><td>0.03               </td></tr>\n",
       "\t<tr><td> 6                 </td><td>NA                 </td><td>   NA              </td><td>SouthPasadenacity  </td><td>1                  </td><td>0.02               </td><td>0.28               </td><td>0.06               </td><td>0.54               </td><td>1.00               </td><td>...                </td><td>0.01               </td><td>0.58               </td><td>0.10               </td><td>  NA               </td><td>  NA               </td><td> NA                </td><td> NA                </td><td>0.00               </td><td>  NA               </td><td>0.14               </td></tr>\n",
       "</tbody>\n",
       "</table>\n"
      ],
      "text/latex": [
       "\\begin{tabular}{r|llllllllllllllllllllllllllllllllllllllllllllllllllllllllllllllllllllllllllllllllllllllllllllllllllllllllllllllllllllllllllllllll}\n",
       " V1 & V2 & V3 & V4 & V5 & V6 & V7 & V8 & V9 & V10 & ... & V119 & V120 & V121 & V122 & V123 & V124 & V125 & V126 & V127 & V128\\\\\n",
       "\\hline\n",
       "\t  8                  & NA                  &    NA               & Lakewoodcity        & 1                   & 0.19                & 0.33                & 0.02                & 0.90                & 0.12                & ...                 & 0.12                & 0.26                & 0.20                & 0.06                & 0.04                & 0.9                 & 0.5                 & 0.32                & 0.14                & 0.20               \\\\\n",
       "\t 53                  & NA                  &    NA               & Tukwilacity         & 1                   & 0.00                & 0.16                & 0.12                & 0.74                & 0.45                & ...                 & 0.02                & 0.12                & 0.45                &   NA                &   NA                &  NA                 &  NA                 & 0.00                &   NA                & 0.67               \\\\\n",
       "\t 24                  & NA                  &    NA               & Aberdeentown        & 1                   & 0.00                & 0.42                & 0.49                & 0.56                & 0.17                & ...                 & 0.01                & 0.21                & 0.02                &   NA                &   NA                &  NA                 &  NA                 & 0.00                &   NA                & 0.43               \\\\\n",
       "\t 34                  &  5                  & 81440               & Willingborotownship & 1                   & 0.04                & 0.77                & 1.00                & 0.08                & 0.12                & ...                 & 0.02                & 0.39                & 0.28                &   NA                &   NA                &  NA                 &  NA                 & 0.00                &   NA                & 0.12               \\\\\n",
       "\t 42                  & 95                  &  6096               & Bethlehemtownship   & 1                   & 0.01                & 0.55                & 0.02                & 0.95                & 0.09                & ...                 & 0.04                & 0.09                & 0.02                &   NA                &   NA                &  NA                 &  NA                 & 0.00                &   NA                & 0.03               \\\\\n",
       "\t  6                  & NA                  &    NA               & SouthPasadenacity   & 1                   & 0.02                & 0.28                & 0.06                & 0.54                & 1.00                & ...                 & 0.01                & 0.58                & 0.10                &   NA                &   NA                &  NA                 &  NA                 & 0.00                &   NA                & 0.14               \\\\\n",
       "\\end{tabular}\n"
      ],
      "text/markdown": [
       "\n",
       "V1 | V2 | V3 | V4 | V5 | V6 | V7 | V8 | V9 | V10 | ... | V119 | V120 | V121 | V122 | V123 | V124 | V125 | V126 | V127 | V128 | \n",
       "|---|---|---|---|---|---|\n",
       "|  8                  | NA                  |    NA               | Lakewoodcity        | 1                   | 0.19                | 0.33                | 0.02                | 0.90                | 0.12                | ...                 | 0.12                | 0.26                | 0.20                | 0.06                | 0.04                | 0.9                 | 0.5                 | 0.32                | 0.14                | 0.20                | \n",
       "| 53                  | NA                  |    NA               | Tukwilacity         | 1                   | 0.00                | 0.16                | 0.12                | 0.74                | 0.45                | ...                 | 0.02                | 0.12                | 0.45                |   NA                |   NA                |  NA                 |  NA                 | 0.00                |   NA                | 0.67                | \n",
       "| 24                  | NA                  |    NA               | Aberdeentown        | 1                   | 0.00                | 0.42                | 0.49                | 0.56                | 0.17                | ...                 | 0.01                | 0.21                | 0.02                |   NA                |   NA                |  NA                 |  NA                 | 0.00                |   NA                | 0.43                | \n",
       "| 34                  |  5                  | 81440               | Willingborotownship | 1                   | 0.04                | 0.77                | 1.00                | 0.08                | 0.12                | ...                 | 0.02                | 0.39                | 0.28                |   NA                |   NA                |  NA                 |  NA                 | 0.00                |   NA                | 0.12                | \n",
       "| 42                  | 95                  |  6096               | Bethlehemtownship   | 1                   | 0.01                | 0.55                | 0.02                | 0.95                | 0.09                | ...                 | 0.04                | 0.09                | 0.02                |   NA                |   NA                |  NA                 |  NA                 | 0.00                |   NA                | 0.03                | \n",
       "|  6                  | NA                  |    NA               | SouthPasadenacity   | 1                   | 0.02                | 0.28                | 0.06                | 0.54                | 1.00                | ...                 | 0.01                | 0.58                | 0.10                |   NA                |   NA                |  NA                 |  NA                 | 0.00                |   NA                | 0.14                | \n",
       "\n",
       "\n"
      ],
      "text/plain": [
       "  V1 V2 V3    V4                  V5 V6   V7   V8   V9   V10  ... V119 V120\n",
       "1  8 NA    NA Lakewoodcity        1  0.19 0.33 0.02 0.90 0.12 ... 0.12 0.26\n",
       "2 53 NA    NA Tukwilacity         1  0.00 0.16 0.12 0.74 0.45 ... 0.02 0.12\n",
       "3 24 NA    NA Aberdeentown        1  0.00 0.42 0.49 0.56 0.17 ... 0.01 0.21\n",
       "4 34  5 81440 Willingborotownship 1  0.04 0.77 1.00 0.08 0.12 ... 0.02 0.39\n",
       "5 42 95  6096 Bethlehemtownship   1  0.01 0.55 0.02 0.95 0.09 ... 0.04 0.09\n",
       "6  6 NA    NA SouthPasadenacity   1  0.02 0.28 0.06 0.54 1.00 ... 0.01 0.58\n",
       "  V121 V122 V123 V124 V125 V126 V127 V128\n",
       "1 0.20 0.06 0.04 0.9  0.5  0.32 0.14 0.20\n",
       "2 0.45   NA   NA  NA   NA  0.00   NA 0.67\n",
       "3 0.02   NA   NA  NA   NA  0.00   NA 0.43\n",
       "4 0.28   NA   NA  NA   NA  0.00   NA 0.12\n",
       "5 0.02   NA   NA  NA   NA  0.00   NA 0.03\n",
       "6 0.10   NA   NA  NA   NA  0.00   NA 0.14"
      ]
     },
     "metadata": {},
     "output_type": "display_data"
    }
   ],
   "source": [
    "# Load the crime data - ? characters coded as NA\n",
    "crime <- read.csv(\"~/Study projects/PCA/crime_dataset/crime.txt\", header=FALSE, stringsAsFactors=FALSE, na.strings=\"?\")\n",
    "paste('There are ', dim(crime)[1], 'observations and ', dim(crime)[2], 'variables')\n",
    "if (dim(crime)[1] != 1994 | dim(crime)[2]!=128) {\n",
    "    print(\"Check data load - number of observations or variables is not as expected\")\n",
    "} else {\n",
    "        print(\"Data is loaded correctly\")\n",
    "} \n",
    "head(crime)"
   ]
  },
  {
   "cell_type": "code",
   "execution_count": 4,
   "metadata": {
    "collapsed": false
   },
   "outputs": [
    {
     "data": {
      "text/html": [
       "<table>\n",
       "<thead><tr><th scope=col>state</th><th scope=col>county</th><th scope=col>community</th><th scope=col>communityname</th><th scope=col>fold</th><th scope=col>population</th><th scope=col>householdsize</th><th scope=col>racepctblack</th><th scope=col>racePctWhite</th><th scope=col>racePctAsian</th><th scope=col>...</th><th scope=col>LandArea</th><th scope=col>PopDens</th><th scope=col>PctUsePubTrans</th><th scope=col>PolicCars</th><th scope=col>PolicOperBudg</th><th scope=col>LemasPctPolicOnPatr</th><th scope=col>LemasGangUnitDeploy</th><th scope=col>LemasPctOfficDrugUn</th><th scope=col>PolicBudgPerPop</th><th scope=col>ViolentCrimesPerPop</th></tr></thead>\n",
       "<tbody>\n",
       "\t<tr><td> 8                 </td><td>NA                 </td><td>   NA              </td><td>Lakewoodcity       </td><td>1                  </td><td>0.19               </td><td>0.33               </td><td>0.02               </td><td>0.90               </td><td>0.12               </td><td>...                </td><td>0.12               </td><td>0.26               </td><td>0.20               </td><td>0.06               </td><td>0.04               </td><td>0.9                </td><td>0.5                </td><td>0.32               </td><td>0.14               </td><td>0.20               </td></tr>\n",
       "\t<tr><td>53                 </td><td>NA                 </td><td>   NA              </td><td>Tukwilacity        </td><td>1                  </td><td>0.00               </td><td>0.16               </td><td>0.12               </td><td>0.74               </td><td>0.45               </td><td>...                </td><td>0.02               </td><td>0.12               </td><td>0.45               </td><td>  NA               </td><td>  NA               </td><td> NA                </td><td> NA                </td><td>0.00               </td><td>  NA               </td><td>0.67               </td></tr>\n",
       "\t<tr><td>24                 </td><td>NA                 </td><td>   NA              </td><td>Aberdeentown       </td><td>1                  </td><td>0.00               </td><td>0.42               </td><td>0.49               </td><td>0.56               </td><td>0.17               </td><td>...                </td><td>0.01               </td><td>0.21               </td><td>0.02               </td><td>  NA               </td><td>  NA               </td><td> NA                </td><td> NA                </td><td>0.00               </td><td>  NA               </td><td>0.43               </td></tr>\n",
       "\t<tr><td>34                 </td><td> 5                 </td><td>81440              </td><td>Willingborotownship</td><td>1                  </td><td>0.04               </td><td>0.77               </td><td>1.00               </td><td>0.08               </td><td>0.12               </td><td>...                </td><td>0.02               </td><td>0.39               </td><td>0.28               </td><td>  NA               </td><td>  NA               </td><td> NA                </td><td> NA                </td><td>0.00               </td><td>  NA               </td><td>0.12               </td></tr>\n",
       "\t<tr><td>42                 </td><td>95                 </td><td> 6096              </td><td>Bethlehemtownship  </td><td>1                  </td><td>0.01               </td><td>0.55               </td><td>0.02               </td><td>0.95               </td><td>0.09               </td><td>...                </td><td>0.04               </td><td>0.09               </td><td>0.02               </td><td>  NA               </td><td>  NA               </td><td> NA                </td><td> NA                </td><td>0.00               </td><td>  NA               </td><td>0.03               </td></tr>\n",
       "\t<tr><td> 6                 </td><td>NA                 </td><td>   NA              </td><td>SouthPasadenacity  </td><td>1                  </td><td>0.02               </td><td>0.28               </td><td>0.06               </td><td>0.54               </td><td>1.00               </td><td>...                </td><td>0.01               </td><td>0.58               </td><td>0.10               </td><td>  NA               </td><td>  NA               </td><td> NA                </td><td> NA                </td><td>0.00               </td><td>  NA               </td><td>0.14               </td></tr>\n",
       "</tbody>\n",
       "</table>\n"
      ],
      "text/latex": [
       "\\begin{tabular}{r|llllllllllllllllllllllllllllllllllllllllllllllllllllllllllllllllllllllllllllllllllllllllllllllllllllllllllllllllllllllllllllllll}\n",
       " state & county & community & communityname & fold & population & householdsize & racepctblack & racePctWhite & racePctAsian & ... & LandArea & PopDens & PctUsePubTrans & PolicCars & PolicOperBudg & LemasPctPolicOnPatr & LemasGangUnitDeploy & LemasPctOfficDrugUn & PolicBudgPerPop & ViolentCrimesPerPop\\\\\n",
       "\\hline\n",
       "\t  8                  & NA                  &    NA               & Lakewoodcity        & 1                   & 0.19                & 0.33                & 0.02                & 0.90                & 0.12                & ...                 & 0.12                & 0.26                & 0.20                & 0.06                & 0.04                & 0.9                 & 0.5                 & 0.32                & 0.14                & 0.20               \\\\\n",
       "\t 53                  & NA                  &    NA               & Tukwilacity         & 1                   & 0.00                & 0.16                & 0.12                & 0.74                & 0.45                & ...                 & 0.02                & 0.12                & 0.45                &   NA                &   NA                &  NA                 &  NA                 & 0.00                &   NA                & 0.67               \\\\\n",
       "\t 24                  & NA                  &    NA               & Aberdeentown        & 1                   & 0.00                & 0.42                & 0.49                & 0.56                & 0.17                & ...                 & 0.01                & 0.21                & 0.02                &   NA                &   NA                &  NA                 &  NA                 & 0.00                &   NA                & 0.43               \\\\\n",
       "\t 34                  &  5                  & 81440               & Willingborotownship & 1                   & 0.04                & 0.77                & 1.00                & 0.08                & 0.12                & ...                 & 0.02                & 0.39                & 0.28                &   NA                &   NA                &  NA                 &  NA                 & 0.00                &   NA                & 0.12               \\\\\n",
       "\t 42                  & 95                  &  6096               & Bethlehemtownship   & 1                   & 0.01                & 0.55                & 0.02                & 0.95                & 0.09                & ...                 & 0.04                & 0.09                & 0.02                &   NA                &   NA                &  NA                 &  NA                 & 0.00                &   NA                & 0.03               \\\\\n",
       "\t  6                  & NA                  &    NA               & SouthPasadenacity   & 1                   & 0.02                & 0.28                & 0.06                & 0.54                & 1.00                & ...                 & 0.01                & 0.58                & 0.10                &   NA                &   NA                &  NA                 &  NA                 & 0.00                &   NA                & 0.14               \\\\\n",
       "\\end{tabular}\n"
      ],
      "text/markdown": [
       "\n",
       "state | county | community | communityname | fold | population | householdsize | racepctblack | racePctWhite | racePctAsian | ... | LandArea | PopDens | PctUsePubTrans | PolicCars | PolicOperBudg | LemasPctPolicOnPatr | LemasGangUnitDeploy | LemasPctOfficDrugUn | PolicBudgPerPop | ViolentCrimesPerPop | \n",
       "|---|---|---|---|---|---|\n",
       "|  8                  | NA                  |    NA               | Lakewoodcity        | 1                   | 0.19                | 0.33                | 0.02                | 0.90                | 0.12                | ...                 | 0.12                | 0.26                | 0.20                | 0.06                | 0.04                | 0.9                 | 0.5                 | 0.32                | 0.14                | 0.20                | \n",
       "| 53                  | NA                  |    NA               | Tukwilacity         | 1                   | 0.00                | 0.16                | 0.12                | 0.74                | 0.45                | ...                 | 0.02                | 0.12                | 0.45                |   NA                |   NA                |  NA                 |  NA                 | 0.00                |   NA                | 0.67                | \n",
       "| 24                  | NA                  |    NA               | Aberdeentown        | 1                   | 0.00                | 0.42                | 0.49                | 0.56                | 0.17                | ...                 | 0.01                | 0.21                | 0.02                |   NA                |   NA                |  NA                 |  NA                 | 0.00                |   NA                | 0.43                | \n",
       "| 34                  |  5                  | 81440               | Willingborotownship | 1                   | 0.04                | 0.77                | 1.00                | 0.08                | 0.12                | ...                 | 0.02                | 0.39                | 0.28                |   NA                |   NA                |  NA                 |  NA                 | 0.00                |   NA                | 0.12                | \n",
       "| 42                  | 95                  |  6096               | Bethlehemtownship   | 1                   | 0.01                | 0.55                | 0.02                | 0.95                | 0.09                | ...                 | 0.04                | 0.09                | 0.02                |   NA                |   NA                |  NA                 |  NA                 | 0.00                |   NA                | 0.03                | \n",
       "|  6                  | NA                  |    NA               | SouthPasadenacity   | 1                   | 0.02                | 0.28                | 0.06                | 0.54                | 1.00                | ...                 | 0.01                | 0.58                | 0.10                |   NA                |   NA                |  NA                 |  NA                 | 0.00                |   NA                | 0.14                | \n",
       "\n",
       "\n"
      ],
      "text/plain": [
       "  state county community communityname       fold population householdsize\n",
       "1  8    NA        NA     Lakewoodcity        1    0.19       0.33         \n",
       "2 53    NA        NA     Tukwilacity         1    0.00       0.16         \n",
       "3 24    NA        NA     Aberdeentown        1    0.00       0.42         \n",
       "4 34     5     81440     Willingborotownship 1    0.04       0.77         \n",
       "5 42    95      6096     Bethlehemtownship   1    0.01       0.55         \n",
       "6  6    NA        NA     SouthPasadenacity   1    0.02       0.28         \n",
       "  racepctblack racePctWhite racePctAsian ... LandArea PopDens PctUsePubTrans\n",
       "1 0.02         0.90         0.12         ... 0.12     0.26    0.20          \n",
       "2 0.12         0.74         0.45         ... 0.02     0.12    0.45          \n",
       "3 0.49         0.56         0.17         ... 0.01     0.21    0.02          \n",
       "4 1.00         0.08         0.12         ... 0.02     0.39    0.28          \n",
       "5 0.02         0.95         0.09         ... 0.04     0.09    0.02          \n",
       "6 0.06         0.54         1.00         ... 0.01     0.58    0.10          \n",
       "  PolicCars PolicOperBudg LemasPctPolicOnPatr LemasGangUnitDeploy\n",
       "1 0.06      0.04          0.9                 0.5                \n",
       "2   NA        NA           NA                  NA                \n",
       "3   NA        NA           NA                  NA                \n",
       "4   NA        NA           NA                  NA                \n",
       "5   NA        NA           NA                  NA                \n",
       "6   NA        NA           NA                  NA                \n",
       "  LemasPctOfficDrugUn PolicBudgPerPop ViolentCrimesPerPop\n",
       "1 0.32                0.14            0.20               \n",
       "2 0.00                  NA            0.67               \n",
       "3 0.00                  NA            0.43               \n",
       "4 0.00                  NA            0.12               \n",
       "5 0.00                  NA            0.03               \n",
       "6 0.00                  NA            0.14               "
      ]
     },
     "metadata": {},
     "output_type": "display_data"
    },
    {
     "data": {
      "text/html": [
       "<ol class=list-inline>\n",
       "\t<li>1994</li>\n",
       "\t<li>128</li>\n",
       "</ol>\n"
      ],
      "text/latex": [
       "\\begin{enumerate*}\n",
       "\\item 1994\n",
       "\\item 128\n",
       "\\end{enumerate*}\n"
      ],
      "text/markdown": [
       "1. 1994\n",
       "2. 128\n",
       "\n",
       "\n"
      ],
      "text/plain": [
       "[1] 1994  128"
      ]
     },
     "metadata": {},
     "output_type": "display_data"
    }
   ],
   "source": [
    "# Assign the varnames to the crime dataframe\n",
    "colnames(crime) <- varnames\n",
    "head(crime)\n",
    "dim(crime)"
   ]
  },
  {
   "cell_type": "code",
   "execution_count": 5,
   "metadata": {
    "collapsed": false
   },
   "outputs": [
    {
     "data": {
      "text/html": [
       "<ol class=list-inline>\n",
       "\t<li>1994</li>\n",
       "\t<li>127</li>\n",
       "</ol>\n"
      ],
      "text/latex": [
       "\\begin{enumerate*}\n",
       "\\item 1994\n",
       "\\item 127\n",
       "\\end{enumerate*}\n"
      ],
      "text/markdown": [
       "1. 1994\n",
       "2. 127\n",
       "\n",
       "\n"
      ],
      "text/plain": [
       "[1] 1994  127"
      ]
     },
     "metadata": {},
     "output_type": "display_data"
    }
   ],
   "source": [
    "# Extract the response variable, ViolentCrimePerPop, in a separate vector\n",
    "crime.rate <- crime[ ,128] \n",
    "crime <- crime[ ,-128]\n",
    "dim(crime)"
   ]
  },
  {
   "cell_type": "code",
   "execution_count": 6,
   "metadata": {
    "collapsed": false
   },
   "outputs": [
    {
     "data": {
      "text/html": [
       "<ol class=list-inline>\n",
       "\t<li>1994</li>\n",
       "\t<li>122</li>\n",
       "</ol>\n"
      ],
      "text/latex": [
       "\\begin{enumerate*}\n",
       "\\item 1994\n",
       "\\item 122\n",
       "\\end{enumerate*}\n"
      ],
      "text/markdown": [
       "1. 1994\n",
       "2. 122\n",
       "\n",
       "\n"
      ],
      "text/plain": [
       "[1] 1994  122"
      ]
     },
     "metadata": {},
     "output_type": "display_data"
    },
    {
     "data": {
      "text/html": [
       "'If all variables are numeric, the output should be FALSE. Check output: FALSE'"
      ],
      "text/latex": [
       "'If all variables are numeric, the output should be FALSE. Check output: FALSE'"
      ],
      "text/markdown": [
       "'If all variables are numeric, the output should be FALSE. Check output: FALSE'"
      ],
      "text/plain": [
       "[1] \"If all variables are numeric, the output should be FALSE. Check output: FALSE\""
      ]
     },
     "metadata": {},
     "output_type": "display_data"
    }
   ],
   "source": [
    "# The first 5 variables do not have predictive value and only serve to uniquely identify the community - we remove them\n",
    "crime <- crime[ , c(6:dim(crime)[2])]\n",
    "dim(crime)\n",
    "# Next, check that the remaining variables are all numeric\n",
    "num.check <- any(sapply(crime,is.numeric) == FALSE)  \n",
    "paste(\"If all variables are numeric, the output should be FALSE. Check output:\", num.check)"
   ]
  },
  {
   "cell_type": "code",
   "execution_count": 7,
   "metadata": {
    "collapsed": false
   },
   "outputs": [
    {
     "data": {
      "text/plain": [
       "   Min. 1st Qu.  Median    Mean 3rd Qu.    Max. \n",
       "  0.000   0.070   0.150   0.238   0.330   1.000 "
      ]
     },
     "metadata": {},
     "output_type": "display_data"
    },
    {
     "data": {
      "image/png": "[encoded data removed]",
      "text/plain": [
       "Plot with title \"Histogram of crime.rate\""
      ]
     },
     "metadata": {},
     "output_type": "display_data"
    }
   ],
   "source": [
    "# Examine the data structure\n",
    "summary(crime.rate)\n",
    "hist(crime.rate)"
   ]
  },
  {
   "cell_type": "code",
   "execution_count": 8,
   "metadata": {
    "collapsed": false
   },
   "outputs": [
    {
     "data": {
      "text/plain": [
       "   population      householdsize     racepctblack     racePctWhite   \n",
       " Min.   :0.00000   Min.   :0.0000   Min.   :0.0000   Min.   :0.0000  \n",
       " 1st Qu.:0.01000   1st Qu.:0.3500   1st Qu.:0.0200   1st Qu.:0.6300  \n",
       " Median :0.02000   Median :0.4400   Median :0.0600   Median :0.8500  \n",
       " Mean   :0.05759   Mean   :0.4634   Mean   :0.1796   Mean   :0.7537  \n",
       " 3rd Qu.:0.05000   3rd Qu.:0.5400   3rd Qu.:0.2300   3rd Qu.:0.9400  \n",
       " Max.   :1.00000   Max.   :1.0000   Max.   :1.0000   Max.   :1.0000  \n",
       "                                                                     \n",
       "  racePctAsian     racePctHisp     agePct12t21      agePct12t29    \n",
       " Min.   :0.0000   Min.   :0.000   Min.   :0.0000   Min.   :0.0000  \n",
       " 1st Qu.:0.0400   1st Qu.:0.010   1st Qu.:0.3400   1st Qu.:0.4100  \n",
       " Median :0.0700   Median :0.040   Median :0.4000   Median :0.4800  \n",
       " Mean   :0.1537   Mean   :0.144   Mean   :0.4242   Mean   :0.4939  \n",
       " 3rd Qu.:0.1700   3rd Qu.:0.160   3rd Qu.:0.4700   3rd Qu.:0.5400  \n",
       " Max.   :1.0000   Max.   :1.000   Max.   :1.0000   Max.   :1.0000  \n",
       "                                                                   \n",
       "  agePct16t24       agePct65up       numbUrban          pctUrban     \n",
       " Min.   :0.0000   Min.   :0.0000   Min.   :0.00000   Min.   :0.0000  \n",
       " 1st Qu.:0.2500   1st Qu.:0.3000   1st Qu.:0.00000   1st Qu.:0.0000  \n",
       " Median :0.2900   Median :0.4200   Median :0.03000   Median :1.0000  \n",
       " Mean   :0.3363   Mean   :0.4232   Mean   :0.06407   Mean   :0.6963  \n",
       " 3rd Qu.:0.3600   3rd Qu.:0.5300   3rd Qu.:0.07000   3rd Qu.:1.0000  \n",
       " Max.   :1.0000   Max.   :1.0000   Max.   :1.00000   Max.   :1.0000  \n",
       "                                                                     \n",
       "   medIncome         pctWWage       pctWFarmSelf      pctWInvInc    \n",
       " Min.   :0.0000   Min.   :0.0000   Min.   :0.0000   Min.   :0.0000  \n",
       " 1st Qu.:0.2000   1st Qu.:0.4400   1st Qu.:0.1600   1st Qu.:0.3700  \n",
       " Median :0.3200   Median :0.5600   Median :0.2300   Median :0.4800  \n",
       " Mean   :0.3611   Mean   :0.5582   Mean   :0.2916   Mean   :0.4957  \n",
       " 3rd Qu.:0.4900   3rd Qu.:0.6900   3rd Qu.:0.3700   3rd Qu.:0.6200  \n",
       " Max.   :1.0000   Max.   :1.0000   Max.   :1.0000   Max.   :1.0000  \n",
       "                                                                    \n",
       "   pctWSocSec      pctWPubAsst       pctWRetire       medFamInc     \n",
       " Min.   :0.0000   Min.   :0.0000   Min.   :0.0000   Min.   :0.0000  \n",
       " 1st Qu.:0.3500   1st Qu.:0.1425   1st Qu.:0.3600   1st Qu.:0.2300  \n",
       " Median :0.4750   Median :0.2600   Median :0.4700   Median :0.3300  \n",
       " Mean   :0.4711   Mean   :0.3178   Mean   :0.4792   Mean   :0.3757  \n",
       " 3rd Qu.:0.5800   3rd Qu.:0.4400   3rd Qu.:0.5800   3rd Qu.:0.4800  \n",
       " Max.   :1.0000   Max.   :1.0000   Max.   :1.0000   Max.   :1.0000  \n",
       "                                                                    \n",
       "   perCapInc       whitePerCap     blackPerCap      indianPerCap   \n",
       " Min.   :0.0000   Min.   :0.000   Min.   :0.0000   Min.   :0.0000  \n",
       " 1st Qu.:0.2200   1st Qu.:0.240   1st Qu.:0.1725   1st Qu.:0.1100  \n",
       " Median :0.3000   Median :0.320   Median :0.2500   Median :0.1700  \n",
       " Mean   :0.3503   Mean   :0.368   Mean   :0.2911   Mean   :0.2035  \n",
       " 3rd Qu.:0.4300   3rd Qu.:0.440   3rd Qu.:0.3800   3rd Qu.:0.2500  \n",
       " Max.   :1.0000   Max.   :1.000   Max.   :1.0000   Max.   :1.0000  \n",
       "                                                                   \n",
       "  AsianPerCap      OtherPerCap       HispPerCap      NumUnderPov     \n",
       " Min.   :0.0000   Min.   :0.0000   Min.   :0.0000   Min.   :0.00000  \n",
       " 1st Qu.:0.1900   1st Qu.:0.1700   1st Qu.:0.2600   1st Qu.:0.01000  \n",
       " Median :0.2800   Median :0.2500   Median :0.3450   Median :0.02000  \n",
       " Mean   :0.3224   Mean   :0.2847   Mean   :0.3863   Mean   :0.05551  \n",
       " 3rd Qu.:0.4000   3rd Qu.:0.3600   3rd Qu.:0.4800   3rd Qu.:0.05000  \n",
       " Max.   :1.0000   Max.   :1.0000   Max.   :1.0000   Max.   :1.00000  \n",
       "                  NA's   :1                                          \n",
       " PctPopUnderPov  PctLess9thGrade   PctNotHSGrad     PctBSorMore    \n",
       " Min.   :0.000   Min.   :0.0000   Min.   :0.0000   Min.   :0.0000  \n",
       " 1st Qu.:0.110   1st Qu.:0.1600   1st Qu.:0.2300   1st Qu.:0.2100  \n",
       " Median :0.250   Median :0.2700   Median :0.3600   Median :0.3100  \n",
       " Mean   :0.303   Mean   :0.3158   Mean   :0.3833   Mean   :0.3617  \n",
       " 3rd Qu.:0.450   3rd Qu.:0.4200   3rd Qu.:0.5100   3rd Qu.:0.4600  \n",
       " Max.   :1.000   Max.   :1.0000   Max.   :1.0000   Max.   :1.0000  \n",
       "                                                                   \n",
       " PctUnemployed      PctEmploy       PctEmplManu     PctEmplProfServ \n",
       " Min.   :0.0000   Min.   :0.0000   Min.   :0.0000   Min.   :0.0000  \n",
       " 1st Qu.:0.2200   1st Qu.:0.3800   1st Qu.:0.2500   1st Qu.:0.3200  \n",
       " Median :0.3200   Median :0.5100   Median :0.3700   Median :0.4100  \n",
       " Mean   :0.3635   Mean   :0.5011   Mean   :0.3964   Mean   :0.4406  \n",
       " 3rd Qu.:0.4800   3rd Qu.:0.6275   3rd Qu.:0.5200   3rd Qu.:0.5300  \n",
       " Max.   :1.0000   Max.   :1.0000   Max.   :1.0000   Max.   :1.0000  \n",
       "                                                                    \n",
       "  PctOccupManu    PctOccupMgmtProf MalePctDivorce   MalePctNevMarr  \n",
       " Min.   :0.0000   Min.   :0.0000   Min.   :0.0000   Min.   :0.0000  \n",
       " 1st Qu.:0.2400   1st Qu.:0.3100   1st Qu.:0.3300   1st Qu.:0.3100  \n",
       " Median :0.3700   Median :0.4000   Median :0.4700   Median :0.4000  \n",
       " Mean   :0.3912   Mean   :0.4413   Mean   :0.4612   Mean   :0.4345  \n",
       " 3rd Qu.:0.5100   3rd Qu.:0.5400   3rd Qu.:0.5900   3rd Qu.:0.5000  \n",
       " Max.   :1.0000   Max.   :1.0000   Max.   :1.0000   Max.   :1.0000  \n",
       "                                                                    \n",
       "  FemalePctDiv     TotalPctDiv       PersPerFam       PctFam2Par    \n",
       " Min.   :0.0000   Min.   :0.0000   Min.   :0.0000   Min.   :0.0000  \n",
       " 1st Qu.:0.3600   1st Qu.:0.3600   1st Qu.:0.4000   1st Qu.:0.4900  \n",
       " Median :0.5000   Median :0.5000   Median :0.4700   Median :0.6300  \n",
       " Mean   :0.4876   Mean   :0.4943   Mean   :0.4877   Mean   :0.6109  \n",
       " 3rd Qu.:0.6200   3rd Qu.:0.6300   3rd Qu.:0.5600   3rd Qu.:0.7600  \n",
       " Max.   :1.0000   Max.   :1.0000   Max.   :1.0000   Max.   :1.0000  \n",
       "                                                                    \n",
       "  PctKids2Par     PctYoungKids2Par  PctTeen2Par     PctWorkMomYoungKids\n",
       " Min.   :0.0000   Min.   :0.000    Min.   :0.0000   Min.   :0.0000     \n",
       " 1st Qu.:0.4900   1st Qu.:0.530    1st Qu.:0.4800   1st Qu.:0.3900     \n",
       " Median :0.6400   Median :0.700    Median :0.6100   Median :0.5100     \n",
       " Mean   :0.6207   Mean   :0.664    Mean   :0.5829   Mean   :0.5014     \n",
       " 3rd Qu.:0.7800   3rd Qu.:0.840    3rd Qu.:0.7200   3rd Qu.:0.6200     \n",
       " Max.   :1.0000   Max.   :1.000    Max.   :1.0000   Max.   :1.0000     \n",
       "                                                                       \n",
       "   PctWorkMom        NumIlleg          PctIlleg       NumImmig      \n",
       " Min.   :0.0000   Min.   :0.00000   Min.   :0.00   Min.   :0.00000  \n",
       " 1st Qu.:0.4200   1st Qu.:0.00000   1st Qu.:0.09   1st Qu.:0.00000  \n",
       " Median :0.5400   Median :0.01000   Median :0.17   Median :0.01000  \n",
       " Mean   :0.5267   Mean   :0.03629   Mean   :0.25   Mean   :0.03006  \n",
       " 3rd Qu.:0.6500   3rd Qu.:0.02000   3rd Qu.:0.32   3rd Qu.:0.02000  \n",
       " Max.   :1.0000   Max.   :1.00000   Max.   :1.00   Max.   :1.00000  \n",
       "                                                                    \n",
       " PctImmigRecent    PctImmigRec5     PctImmigRec8    PctImmigRec10   \n",
       " Min.   :0.0000   Min.   :0.0000   Min.   :0.0000   Min.   :0.0000  \n",
       " 1st Qu.:0.1600   1st Qu.:0.2000   1st Qu.:0.2500   1st Qu.:0.2800  \n",
       " Median :0.2900   Median :0.3400   Median :0.3900   Median :0.4300  \n",
       " Mean   :0.3202   Mean   :0.3606   Mean   :0.3991   Mean   :0.4279  \n",
       " 3rd Qu.:0.4300   3rd Qu.:0.4800   3rd Qu.:0.5300   3rd Qu.:0.5600  \n",
       " Max.   :1.0000   Max.   :1.0000   Max.   :1.0000   Max.   :1.0000  \n",
       "                                                                    \n",
       " PctRecentImmig    PctRecImmig5     PctRecImmig8    PctRecImmig10   \n",
       " Min.   :0.0000   Min.   :0.0000   Min.   :0.0000   Min.   :0.0000  \n",
       " 1st Qu.:0.0300   1st Qu.:0.0300   1st Qu.:0.0300   1st Qu.:0.0300  \n",
       " Median :0.0900   Median :0.0800   Median :0.0900   Median :0.0900  \n",
       " Mean   :0.1814   Mean   :0.1821   Mean   :0.1848   Mean   :0.1829  \n",
       " 3rd Qu.:0.2300   3rd Qu.:0.2300   3rd Qu.:0.2300   3rd Qu.:0.2300  \n",
       " Max.   :1.0000   Max.   :1.0000   Max.   :1.0000   Max.   :1.0000  \n",
       "                                                                    \n",
       " PctSpeakEnglOnly PctNotSpeakEnglWell PctLargHouseFam  PctLargHouseOccup\n",
       " Min.   :0.0000   Min.   :0.0000      Min.   :0.0000   Min.   :0.0000   \n",
       " 1st Qu.:0.7300   1st Qu.:0.0300      1st Qu.:0.1500   1st Qu.:0.1400   \n",
       " Median :0.8700   Median :0.0600      Median :0.2000   Median :0.1900   \n",
       " Mean   :0.7859   Mean   :0.1506      Mean   :0.2676   Mean   :0.2519   \n",
       " 3rd Qu.:0.9400   3rd Qu.:0.1600      3rd Qu.:0.3100   3rd Qu.:0.2900   \n",
       " Max.   :1.0000   Max.   :1.0000      Max.   :1.0000   Max.   :1.0000   \n",
       "                                                                        \n",
       " PersPerOccupHous PersPerOwnOccHous PersPerRentOccHous PctPersOwnOccup \n",
       " Min.   :0.0000   Min.   :0.0000    Min.   :0.0000     Min.   :0.0000  \n",
       " 1st Qu.:0.3400   1st Qu.:0.3900    1st Qu.:0.2700     1st Qu.:0.4400  \n",
       " Median :0.4400   Median :0.4800    Median :0.3600     Median :0.5600  \n",
       " Mean   :0.4621   Mean   :0.4944    Mean   :0.4041     Mean   :0.5626  \n",
       " 3rd Qu.:0.5500   3rd Qu.:0.5800    3rd Qu.:0.4900     3rd Qu.:0.7000  \n",
       " Max.   :1.0000   Max.   :1.0000    Max.   :1.0000     Max.   :1.0000  \n",
       "                                                                       \n",
       " PctPersDenseHous PctHousLess3BR      MedNumBR        HousVacant     \n",
       " Min.   :0.0000   Min.   :0.0000   Min.   :0.0000   Min.   :0.00000  \n",
       " 1st Qu.:0.0600   1st Qu.:0.4000   1st Qu.:0.0000   1st Qu.:0.01000  \n",
       " Median :0.1100   Median :0.5100   Median :0.5000   Median :0.03000  \n",
       " Mean   :0.1863   Mean   :0.4952   Mean   :0.3147   Mean   :0.07682  \n",
       " 3rd Qu.:0.2200   3rd Qu.:0.6000   3rd Qu.:0.5000   3rd Qu.:0.07000  \n",
       " Max.   :1.0000   Max.   :1.0000   Max.   :1.0000   Max.   :1.00000  \n",
       "                                                                     \n",
       "  PctHousOccup    PctHousOwnOcc    PctVacantBoarded PctVacMore6Mos  \n",
       " Min.   :0.0000   Min.   :0.0000   Min.   :0.0000   Min.   :0.0000  \n",
       " 1st Qu.:0.6300   1st Qu.:0.4300   1st Qu.:0.0600   1st Qu.:0.2900  \n",
       " Median :0.7700   Median :0.5400   Median :0.1300   Median :0.4200  \n",
       " Mean   :0.7195   Mean   :0.5487   Mean   :0.2045   Mean   :0.4333  \n",
       " 3rd Qu.:0.8600   3rd Qu.:0.6700   3rd Qu.:0.2700   3rd Qu.:0.5600  \n",
       " Max.   :1.0000   Max.   :1.0000   Max.   :1.0000   Max.   :1.0000  \n",
       "                                                                    \n",
       " MedYrHousBuilt   PctHousNoPhone   PctWOFullPlumb   OwnOccLowQuart  \n",
       " Min.   :0.0000   Min.   :0.0000   Min.   :0.0000   Min.   :0.0000  \n",
       " 1st Qu.:0.3500   1st Qu.:0.0600   1st Qu.:0.1000   1st Qu.:0.0900  \n",
       " Median :0.5200   Median :0.1850   Median :0.1900   Median :0.1800  \n",
       " Mean   :0.4942   Mean   :0.2645   Mean   :0.2431   Mean   :0.2647  \n",
       " 3rd Qu.:0.6700   3rd Qu.:0.4200   3rd Qu.:0.3300   3rd Qu.:0.4000  \n",
       " Max.   :1.0000   Max.   :1.0000   Max.   :1.0000   Max.   :1.0000  \n",
       "                                                                    \n",
       "  OwnOccMedVal    OwnOccHiQuart       RentLowQ        RentMedian    \n",
       " Min.   :0.0000   Min.   :0.0000   Min.   :0.0000   Min.   :0.0000  \n",
       " 1st Qu.:0.0900   1st Qu.:0.0900   1st Qu.:0.1700   1st Qu.:0.2000  \n",
       " Median :0.1700   Median :0.1800   Median :0.3100   Median :0.3300  \n",
       " Mean   :0.2635   Mean   :0.2689   Mean   :0.3464   Mean   :0.3725  \n",
       " 3rd Qu.:0.3900   3rd Qu.:0.3800   3rd Qu.:0.4900   3rd Qu.:0.5200  \n",
       " Max.   :1.0000   Max.   :1.0000   Max.   :1.0000   Max.   :1.0000  \n",
       "                                                                    \n",
       "   RentHighQ        MedRent       MedRentPctHousInc MedOwnCostPctInc\n",
       " Min.   :0.000   Min.   :0.0000   Min.   :0.0000    Min.   :0.0000  \n",
       " 1st Qu.:0.220   1st Qu.:0.2100   1st Qu.:0.3700    1st Qu.:0.3200  \n",
       " Median :0.370   Median :0.3400   Median :0.4800    Median :0.4500  \n",
       " Mean   :0.423   Mean   :0.3841   Mean   :0.4901    Mean   :0.4498  \n",
       " 3rd Qu.:0.590   3rd Qu.:0.5300   3rd Qu.:0.5900    3rd Qu.:0.5800  \n",
       " Max.   :1.000   Max.   :1.0000   Max.   :1.0000    Max.   :1.0000  \n",
       "                                                                    \n",
       " MedOwnCostPctIncNoMtg NumInShelters       NumStreet       PctForeignBorn  \n",
       " Min.   :0.0000        Min.   :0.00000   Min.   :0.00000   Min.   :0.0000  \n",
       " 1st Qu.:0.2500        1st Qu.:0.00000   1st Qu.:0.00000   1st Qu.:0.0600  \n",
       " Median :0.3700        Median :0.00000   Median :0.00000   Median :0.1300  \n",
       " Mean   :0.4038        Mean   :0.02944   Mean   :0.02278   Mean   :0.2156  \n",
       " 3rd Qu.:0.5100        3rd Qu.:0.01000   3rd Qu.:0.00000   3rd Qu.:0.2800  \n",
       " Max.   :1.0000        Max.   :1.00000   Max.   :1.00000   Max.   :1.0000  \n",
       "                                                                           \n",
       " PctBornSameState PctSameHouse85   PctSameCity85    PctSameState85  \n",
       " Min.   :0.0000   Min.   :0.0000   Min.   :0.0000   Min.   :0.0000  \n",
       " 1st Qu.:0.4700   1st Qu.:0.4200   1st Qu.:0.5200   1st Qu.:0.5600  \n",
       " Median :0.6300   Median :0.5400   Median :0.6700   Median :0.7000  \n",
       " Mean   :0.6089   Mean   :0.5351   Mean   :0.6264   Mean   :0.6515  \n",
       " 3rd Qu.:0.7775   3rd Qu.:0.6600   3rd Qu.:0.7700   3rd Qu.:0.7900  \n",
       " Max.   :1.0000   Max.   :1.0000   Max.   :1.0000   Max.   :1.0000  \n",
       "                                                                    \n",
       "  LemasSwornFT    LemasSwFTPerPop  LemasSwFTFieldOps LemasSwFTFieldPerPop\n",
       " Min.   :0.0000   Min.   :0.0000   Min.   :0.0000    Min.   :0.0000      \n",
       " 1st Qu.:0.0100   1st Qu.:0.1300   1st Qu.:0.9300    1st Qu.:0.1600      \n",
       " Median :0.0200   Median :0.1800   Median :0.9700    Median :0.2100      \n",
       " Mean   :0.0697   Mean   :0.2175   Mean   :0.9247    Mean   :0.2463      \n",
       " 3rd Qu.:0.0600   3rd Qu.:0.2500   3rd Qu.:0.9800    3rd Qu.:0.2900      \n",
       " Max.   :1.0000   Max.   :1.0000   Max.   :1.0000    Max.   :1.0000      \n",
       " NA's   :1675     NA's   :1675     NA's   :1675      NA's   :1675        \n",
       " LemasTotalReq   LemasTotReqPerPop PolicReqPerOffic  PolicPerPop    \n",
       " Min.   :0.000   Min.   :0.0000    Min.   :0.0000   Min.   :0.0000  \n",
       " 1st Qu.:0.020   1st Qu.:0.1200    1st Qu.:0.2200   1st Qu.:0.1300  \n",
       " Median :0.040   Median :0.1700    Median :0.2900   Median :0.1800  \n",
       " Mean   :0.098   Mean   :0.2152    Mean   :0.3436   Mean   :0.2175  \n",
       " 3rd Qu.:0.085   3rd Qu.:0.2500    3rd Qu.:0.4350   3rd Qu.:0.2500  \n",
       " Max.   :1.000   Max.   :1.0000    Max.   :1.0000   Max.   :1.0000  \n",
       " NA's   :1675    NA's   :1675      NA's   :1675     NA's   :1675    \n",
       " RacialMatchCommPol PctPolicWhite   PctPolicBlack     PctPolicHisp   \n",
       " Min.   :0.0000     Min.   :0.000   Min.   :0.0000   Min.   :0.0000  \n",
       " 1st Qu.:0.5600     1st Qu.:0.620   1st Qu.:0.0500   1st Qu.:0.0100  \n",
       " Median :0.7400     Median :0.780   Median :0.1200   Median :0.0600  \n",
       " Mean   :0.6894     Mean   :0.727   Mean   :0.2205   Mean   :0.1349  \n",
       " 3rd Qu.:0.8600     3rd Qu.:0.890   3rd Qu.:0.3400   3rd Qu.:0.1700  \n",
       " Max.   :1.0000     Max.   :1.000   Max.   :1.0000   Max.   :1.0000  \n",
       " NA's   :1675       NA's   :1675    NA's   :1675     NA's   :1675    \n",
       " PctPolicAsian    PctPolicMinor    OfficAssgnDrugUnits NumKindsDrugsSeiz\n",
       " Min.   :0.0000   Min.   :0.0000   Min.   :0.0000      Min.   :0.0000   \n",
       " 1st Qu.:0.0000   1st Qu.:0.0900   1st Qu.:0.0200      1st Qu.:0.4300   \n",
       " Median :0.0000   Median :0.2000   Median :0.0400      Median :0.5700   \n",
       " Mean   :0.1149   Mean   :0.2592   Mean   :0.0755      Mean   :0.5561   \n",
       " 3rd Qu.:0.1200   3rd Qu.:0.3500   3rd Qu.:0.0800      3rd Qu.:0.6750   \n",
       " Max.   :1.0000   Max.   :1.0000   Max.   :1.0000      Max.   :1.0000   \n",
       " NA's   :1675     NA's   :1675     NA's   :1675        NA's   :1675     \n",
       " PolicAveOTWorked    LandArea          PopDens       PctUsePubTrans  \n",
       " Min.   :0.000    Min.   :0.00000   Min.   :0.0000   Min.   :0.0000  \n",
       " 1st Qu.:0.140    1st Qu.:0.02000   1st Qu.:0.1000   1st Qu.:0.0200  \n",
       " Median :0.260    Median :0.04000   Median :0.1700   Median :0.0700  \n",
       " Mean   :0.306    Mean   :0.06523   Mean   :0.2329   Mean   :0.1617  \n",
       " 3rd Qu.:0.395    3rd Qu.:0.07000   3rd Qu.:0.2800   3rd Qu.:0.1900  \n",
       " Max.   :1.000    Max.   :1.00000   Max.   :1.0000   Max.   :1.0000  \n",
       " NA's   :1675                                                        \n",
       "   PolicCars      PolicOperBudg    LemasPctPolicOnPatr LemasGangUnitDeploy\n",
       " Min.   :0.0000   Min.   :0.0000   Min.   :0.0000      Min.   :0.0000     \n",
       " 1st Qu.:0.0400   1st Qu.:0.0200   1st Qu.:0.6200      1st Qu.:0.0000     \n",
       " Median :0.0800   Median :0.0300   Median :0.7500      Median :0.5000     \n",
       " Mean   :0.1631   Mean   :0.0767   Mean   :0.6986      Mean   :0.4404     \n",
       " 3rd Qu.:0.1950   3rd Qu.:0.0600   3rd Qu.:0.8400      3rd Qu.:1.0000     \n",
       " Max.   :1.0000   Max.   :1.0000   Max.   :1.0000      Max.   :1.0000     \n",
       " NA's   :1675     NA's   :1675     NA's   :1675        NA's   :1675       \n",
       " LemasPctOfficDrugUn PolicBudgPerPop \n",
       " Min.   :0.00000     Min.   :0.0000  \n",
       " 1st Qu.:0.00000     1st Qu.:0.1100  \n",
       " Median :0.00000     Median :0.1500  \n",
       " Mean   :0.09405     Mean   :0.1951  \n",
       " 3rd Qu.:0.00000     3rd Qu.:0.2200  \n",
       " Max.   :1.00000     Max.   :1.0000  \n",
       "                     NA's   :1675    "
      ]
     },
     "metadata": {},
     "output_type": "display_data"
    }
   ],
   "source": [
    "summary(crime)"
   ]
  },
  {
   "cell_type": "markdown",
   "metadata": {},
   "source": [
    "### A couple of observations about the data:\n",
    "\n",
    "+ All numeric variables are bounded between 0 and 1. After reading the data description carefully, it becomes clear that all numeric data was normalized into the decimal range 0.00-1.00 and then discretized using an Unsupervised, equal-interval binning method. The determination of the bin value was not discussed, but it is stated that attributes retain their distribution and skew (as confirmed by the histogram for crime.rate above). Therefore, the usual scaling step does not have to be applied prior to computing the PCs since all variables are measured on the same scale, from 0.00 to 1.00. \n",
    "\n",
    "+ Variables starting with Lemas in their names have the same number of missing observations, 1675, leaving only 1994-1675=319 observations with data. As explained in the data description, the LEMAS survey was primarily administered to larger police departments and many communities are missing LEMAS data. Given the large proportion of missing LEMAS data, we could either 1) limit the dataset to only those communities with available LEMAS data, which reduces the dataset to 319 observations; or 2) exclude the LEMAS variables from the dataset. Without prior contextual knowledge to inform the decision, we could explore both options. However, for purposes of this excerise we will assume that the LEMAS variables contain important signal and proceed with option 2).  "
   ]
  },
  {
   "cell_type": "code",
   "execution_count": 9,
   "metadata": {
    "collapsed": false
   },
   "outputs": [
    {
     "data": {
      "text/html": [
       "<ol class=list-inline>\n",
       "\t<li>319</li>\n",
       "\t<li>122</li>\n",
       "</ol>\n"
      ],
      "text/latex": [
       "\\begin{enumerate*}\n",
       "\\item 319\n",
       "\\item 122\n",
       "\\end{enumerate*}\n"
      ],
      "text/markdown": [
       "1. 319\n",
       "2. 122\n",
       "\n",
       "\n"
      ],
      "text/plain": [
       "[1] 319 122"
      ]
     },
     "metadata": {},
     "output_type": "display_data"
    },
    {
     "data": {
      "text/html": [
       "319"
      ],
      "text/latex": [
       "319"
      ],
      "text/markdown": [
       "319"
      ],
      "text/plain": [
       "[1] 319"
      ]
     },
     "metadata": {},
     "output_type": "display_data"
    }
   ],
   "source": [
    "# Keep only observations with available LEMAS data:\n",
    "crime <- subset(crime, (!is.na(crime$LemasSwornFT)))\n",
    "dim(crime)\n",
    "if (dim(crime)[1]<dim(crime)[2]) print(\"The number of observations is LESS THAN the number of variables\")\n",
    "    \n",
    "# Keep the corresponding crime rate observations\n",
    "tokeep <- which(!(is.na(crime$LemasSwornFT)))\n",
    "crime.rate <- crime.rate[tokeep]\n",
    "length(crime.rate)"
   ]
  },
  {
   "cell_type": "code",
   "execution_count": 10,
   "metadata": {
    "collapsed": false
   },
   "outputs": [
    {
     "name": "stderr",
     "output_type": "stream",
     "text": [
      "Loading required package: ggplot2\n"
     ]
    }
   ],
   "source": [
    "require(ggplot2)"
   ]
  },
  {
   "cell_type": "markdown",
   "metadata": {},
   "source": [
    "## Compute the PCs\n",
    "\n",
    "There are two functions in R that compute the principal components. \n",
    "* *princomp* uses eigen decomposition and works only when the number of observations is greater than the number of features. \n",
    "\n",
    "* *prcomp* uses singular value decomposition (SVD) and is the preferred method because it is numerically more stable and can be applied to wide datasets (where the number of features exceeds the number of observations). \n",
    "\n",
    "We will use *prcomp*, which also by default centers the variables. As discussed above, we do not need to scale the variables since they are all measured on a scale from 0 to 1.    "
   ]
  },
  {
   "cell_type": "code",
   "execution_count": 11,
   "metadata": {
    "collapsed": false
   },
   "outputs": [
    {
     "data": {
      "text/plain": [
       "Importance of components:\n",
       "                          PC1    PC2    PC3     PC4     PC5     PC6     PC7\n",
       "Standard deviation     5.1068 4.4632 3.4735 3.00071 2.75445 2.27103 2.08340\n",
       "Proportion of Variance 0.2138 0.1633 0.0989 0.07381 0.06219 0.04228 0.03558\n",
       "Cumulative Proportion  0.2138 0.3770 0.4759 0.54975 0.61194 0.65422 0.68979\n",
       "                           PC8     PC9    PC10   PC11    PC12    PC13    PC14\n",
       "Standard deviation     1.92055 1.84536 1.53790 1.4736 1.30254 1.29683 1.18749\n",
       "Proportion of Variance 0.03023 0.02791 0.01939 0.0178 0.01391 0.01378 0.01156\n",
       "Cumulative Proportion  0.72003 0.74794 0.76733 0.7851 0.79903 0.81282 0.82438\n",
       "                          PC15   PC16    PC17    PC18    PC19    PC20    PC21\n",
       "Standard deviation     1.11496 1.0476 1.02372 0.99826 0.97663 0.96454 0.93397\n",
       "Proportion of Variance 0.01019 0.0090 0.00859 0.00817 0.00782 0.00763 0.00715\n",
       "Cumulative Proportion  0.83457 0.8436 0.85215 0.86032 0.86814 0.87577 0.88292\n",
       "                          PC22    PC23    PC24    PC25    PC26    PC27    PC28\n",
       "Standard deviation     0.90091 0.88603 0.87953 0.84530 0.81846 0.77724 0.75186\n",
       "Proportion of Variance 0.00665 0.00643 0.00634 0.00586 0.00549 0.00495 0.00463\n",
       "Cumulative Proportion  0.88957 0.89600 0.90234 0.90820 0.91369 0.91864 0.92328\n",
       "                          PC29    PC30    PC31    PC32    PC33    PC34   PC35\n",
       "Standard deviation     0.73632 0.71453 0.70081 0.68890 0.64967 0.64054 0.6145\n",
       "Proportion of Variance 0.00444 0.00418 0.00403 0.00389 0.00346 0.00336 0.0031\n",
       "Cumulative Proportion  0.92772 0.93191 0.93593 0.93982 0.94328 0.94664 0.9497\n",
       "                          PC36    PC37    PC38    PC39    PC40    PC41    PC42\n",
       "Standard deviation     0.58906 0.57148 0.54501 0.52229 0.51031 0.50414 0.47620\n",
       "Proportion of Variance 0.00284 0.00268 0.00243 0.00224 0.00213 0.00208 0.00186\n",
       "Cumulative Proportion  0.95258 0.95526 0.95769 0.95993 0.96207 0.96415 0.96601\n",
       "                          PC43    PC44    PC45    PC46    PC47   PC48    PC49\n",
       "Standard deviation     0.47058 0.46043 0.44636 0.43930 0.43587 0.4272 0.42026\n",
       "Proportion of Variance 0.00182 0.00174 0.00163 0.00158 0.00156 0.0015 0.00145\n",
       "Cumulative Proportion  0.96782 0.96956 0.97119 0.97278 0.97433 0.9758 0.97728\n",
       "                          PC50    PC51    PC52    PC53    PC54   PC55    PC56\n",
       "Standard deviation     0.40354 0.39939 0.38120 0.37468 0.36449 0.3501 0.34545\n",
       "Proportion of Variance 0.00133 0.00131 0.00119 0.00115 0.00109 0.0010 0.00098\n",
       "Cumulative Proportion  0.97861 0.97992 0.98111 0.98226 0.98335 0.9843 0.98533\n",
       "                          PC57    PC58    PC59    PC60   PC61    PC62    PC63\n",
       "Standard deviation     0.33550 0.32724 0.30875 0.30666 0.2929 0.28104 0.27622\n",
       "Proportion of Variance 0.00092 0.00088 0.00078 0.00077 0.0007 0.00065 0.00063\n",
       "Cumulative Proportion  0.98625 0.98713 0.98791 0.98868 0.9894 0.99003 0.99066\n",
       "                          PC64    PC65    PC66    PC67    PC68    PC69    PC70\n",
       "Standard deviation     0.26850 0.25749 0.25178 0.24375 0.24236 0.23399 0.23236\n",
       "Proportion of Variance 0.00059 0.00054 0.00052 0.00049 0.00048 0.00045 0.00044\n",
       "Cumulative Proportion  0.99125 0.99179 0.99231 0.99280 0.99328 0.99373 0.99417\n",
       "                          PC71    PC72    PC73    PC74   PC75    PC76    PC77\n",
       "Standard deviation     0.21199 0.20806 0.20370 0.19342 0.1906 0.18571 0.18216\n",
       "Proportion of Variance 0.00037 0.00035 0.00034 0.00031 0.0003 0.00028 0.00027\n",
       "Cumulative Proportion  0.99454 0.99490 0.99524 0.99554 0.9958 0.99612 0.99640\n",
       "                          PC78    PC79    PC80    PC81   PC82   PC83    PC84\n",
       "Standard deviation     0.17535 0.17055 0.16847 0.16343 0.1572 0.1546 0.14587\n",
       "Proportion of Variance 0.00025 0.00024 0.00023 0.00022 0.0002 0.0002 0.00017\n",
       "Cumulative Proportion  0.99665 0.99689 0.99712 0.99734 0.9975 0.9977 0.99791\n",
       "                          PC85    PC86    PC87    PC88    PC89    PC90    PC91\n",
       "Standard deviation     0.13975 0.13242 0.12931 0.12643 0.11983 0.11706 0.11658\n",
       "Proportion of Variance 0.00016 0.00014 0.00014 0.00013 0.00012 0.00011 0.00011\n",
       "Cumulative Proportion  0.99807 0.99822 0.99835 0.99848 0.99860 0.99871 0.99882\n",
       "                         PC92    PC93    PC94    PC95    PC96    PC97    PC98\n",
       "Standard deviation     0.1122 0.10523 0.10042 0.09741 0.09558 0.09360 0.09284\n",
       "Proportion of Variance 0.0001 0.00009 0.00008 0.00008 0.00007 0.00007 0.00007\n",
       "Cumulative Proportion  0.9989 0.99902 0.99910 0.99918 0.99925 0.99933 0.99940\n",
       "                          PC99   PC100   PC101   PC102   PC103   PC104   PC105\n",
       "Standard deviation     0.08859 0.08525 0.08332 0.08133 0.07662 0.07196 0.06974\n",
       "Proportion of Variance 0.00006 0.00006 0.00006 0.00005 0.00005 0.00004 0.00004\n",
       "Cumulative Proportion  0.99946 0.99952 0.99958 0.99963 0.99968 0.99972 0.99976\n",
       "                         PC106   PC107   PC108   PC109   PC110   PC111   PC112\n",
       "Standard deviation     0.06776 0.06368 0.05774 0.05728 0.05056 0.04880 0.04439\n",
       "Proportion of Variance 0.00004 0.00003 0.00003 0.00003 0.00002 0.00002 0.00002\n",
       "Cumulative Proportion  0.99980 0.99983 0.99986 0.99989 0.99991 0.99993 0.99994\n",
       "                         PC113   PC114   PC115   PC116   PC117   PC118   PC119\n",
       "Standard deviation     0.04212 0.03734 0.03216 0.02859 0.02513 0.02271 0.01857\n",
       "Proportion of Variance 0.00001 0.00001 0.00001 0.00001 0.00001 0.00000 0.00000\n",
       "Cumulative Proportion  0.99996 0.99997 0.99998 0.99998 0.99999 0.99999 1.00000\n",
       "                         PC120   PC121    PC122\n",
       "Standard deviation     0.01608 0.01054 0.002015\n",
       "Proportion of Variance 0.00000 0.00000 0.000000\n",
       "Cumulative Proportion  1.00000 1.00000 1.000000"
      ]
     },
     "metadata": {},
     "output_type": "display_data"
    }
   ],
   "source": [
    "pc <- prcomp(crime, scale=TRUE)\n",
    "summary(pc)"
   ]
  },
  {
   "cell_type": "markdown",
   "metadata": {},
   "source": [
    "As expected, *prcomp* calculated 122 PCs, i.e., the smaller of p (number of variables) and n-1 (number of observations less one). \n",
    "\n",
    "As an aside, *fortify* is a package that conveniently adds the PC scores as additional columns to the dataframe with the original features."
   ]
  },
  {
   "cell_type": "code",
   "execution_count": 12,
   "metadata": {
    "collapsed": false
   },
   "outputs": [
    {
     "data": {
      "text/html": [
       "<table>\n",
       "<thead><tr><th></th><th scope=col>population</th><th scope=col>householdsize</th><th scope=col>racepctblack</th><th scope=col>racePctWhite</th><th scope=col>racePctAsian</th><th scope=col>racePctHisp</th><th scope=col>agePct12t21</th><th scope=col>agePct12t29</th><th scope=col>agePct16t24</th><th scope=col>agePct65up</th><th scope=col>...</th><th scope=col>PC113</th><th scope=col>PC114</th><th scope=col>PC115</th><th scope=col>PC116</th><th scope=col>PC117</th><th scope=col>PC118</th><th scope=col>PC119</th><th scope=col>PC120</th><th scope=col>PC121</th><th scope=col>PC122</th></tr></thead>\n",
       "<tbody>\n",
       "\t<tr><th scope=row>1</th><td>0.19         </td><td>0.33         </td><td>0.02         </td><td>0.90         </td><td>0.12         </td><td>0.17         </td><td>0.34         </td><td>0.47         </td><td>0.29         </td><td>0.32         </td><td>...          </td><td> 0.032222873 </td><td>-0.01330541  </td><td>-0.0001686825</td><td> 0.032391962 </td><td>-0.0005898588</td><td> 0.004931463 </td><td> 0.017115324 </td><td>-0.005960130 </td><td>-0.0117890466</td><td> 8.307522e-05</td></tr>\n",
       "\t<tr><th scope=row>17</th><td>0.15         </td><td>0.31         </td><td>0.40         </td><td>0.63         </td><td>0.14         </td><td>0.06         </td><td>0.58         </td><td>0.72         </td><td>0.65         </td><td>0.47         </td><td>...          </td><td> 0.043959946 </td><td> 0.05159654  </td><td> 0.0308047629</td><td> 0.005696376 </td><td> 0.0091422069</td><td>-0.008363946 </td><td> 0.003031723 </td><td> 0.002218141 </td><td>-0.0001473669</td><td>-3.195727e-04</td></tr>\n",
       "\t<tr><th scope=row>21</th><td>0.25         </td><td>0.54         </td><td>0.05         </td><td>0.71         </td><td>0.48         </td><td>0.30         </td><td>0.42         </td><td>0.48         </td><td>0.28         </td><td>0.32         </td><td>...          </td><td>-0.003551687 </td><td>-0.02239379  </td><td>-0.0038534411</td><td>-0.011335479 </td><td>-0.0243697358</td><td> 0.019353881 </td><td> 0.009747820 </td><td>-0.000281766 </td><td>-0.0105437067</td><td>-5.382938e-04</td></tr>\n",
       "\t<tr><th scope=row>22</th><td>1.00         </td><td>0.42         </td><td>0.47         </td><td>0.59         </td><td>0.12         </td><td>0.05         </td><td>0.41         </td><td>0.53         </td><td>0.34         </td><td>0.33         </td><td>...          </td><td> 0.088963777 </td><td>-0.01257605  </td><td> 0.0076797371</td><td> 0.043409359 </td><td>-0.0081100177</td><td>-0.008085961 </td><td>-0.015288309 </td><td> 0.019812731 </td><td> 0.0005404360</td><td> 2.299479e-03</td></tr>\n",
       "\t<tr><th scope=row>24</th><td>0.11         </td><td>0.43         </td><td>0.04         </td><td>0.89         </td><td>0.09         </td><td>0.06         </td><td>0.45         </td><td>0.48         </td><td>0.31         </td><td>0.46         </td><td>...          </td><td>-0.023517265 </td><td>-0.01344240  </td><td>-0.0190773832</td><td> 0.030023153 </td><td> 0.0112131178</td><td>-0.003130134 </td><td>-0.028072548 </td><td> 0.001328322 </td><td> 0.0066040564</td><td>-1.492538e-04</td></tr>\n",
       "\t<tr><th scope=row>34</th><td>0.09         </td><td>0.43         </td><td>0.51         </td><td>0.58         </td><td>0.04         </td><td>0.01         </td><td>0.58         </td><td>0.56         </td><td>0.50         </td><td>0.52         </td><td>...          </td><td>-0.030629015 </td><td>-0.02031043  </td><td>-0.0246364519</td><td> 0.019465593 </td><td> 0.0087910326</td><td>-0.035756076 </td><td> 0.022647875 </td><td> 0.015724872 </td><td>-0.0106399918</td><td> 1.068558e-03</td></tr>\n",
       "</tbody>\n",
       "</table>\n"
      ],
      "text/latex": [
       "\\begin{tabular}{r|llllllllllllllllllllllllllllllllllllllllllllllllllllllllllllllllllllllllllllllllllllllllllllllllllllllllllllllllllllllllllllllllllllllllllllllllllllllllllllllllllllllllllllllllllllllllllllllllllllllllllllllllllllllllllllllllllllllllllllllllllll}\n",
       "  & population & householdsize & racepctblack & racePctWhite & racePctAsian & racePctHisp & agePct12t21 & agePct12t29 & agePct16t24 & agePct65up & ... & PC113 & PC114 & PC115 & PC116 & PC117 & PC118 & PC119 & PC120 & PC121 & PC122\\\\\n",
       "\\hline\n",
       "\t1 & 0.19          & 0.33          & 0.02          & 0.90          & 0.12          & 0.17          & 0.34          & 0.47          & 0.29          & 0.32          & ...           &  0.032222873  & -0.01330541   & -0.0001686825 &  0.032391962  & -0.0005898588 &  0.004931463  &  0.017115324  & -0.005960130  & -0.0117890466 &  8.307522e-05\\\\\n",
       "\t17 & 0.15          & 0.31          & 0.40          & 0.63          & 0.14          & 0.06          & 0.58          & 0.72          & 0.65          & 0.47          & ...           &  0.043959946  &  0.05159654   &  0.0308047629 &  0.005696376  &  0.0091422069 & -0.008363946  &  0.003031723  &  0.002218141  & -0.0001473669 & -3.195727e-04\\\\\n",
       "\t21 & 0.25          & 0.54          & 0.05          & 0.71          & 0.48          & 0.30          & 0.42          & 0.48          & 0.28          & 0.32          & ...           & -0.003551687  & -0.02239379   & -0.0038534411 & -0.011335479  & -0.0243697358 &  0.019353881  &  0.009747820  & -0.000281766  & -0.0105437067 & -5.382938e-04\\\\\n",
       "\t22 & 1.00          & 0.42          & 0.47          & 0.59          & 0.12          & 0.05          & 0.41          & 0.53          & 0.34          & 0.33          & ...           &  0.088963777  & -0.01257605   &  0.0076797371 &  0.043409359  & -0.0081100177 & -0.008085961  & -0.015288309  &  0.019812731  &  0.0005404360 &  2.299479e-03\\\\\n",
       "\t24 & 0.11          & 0.43          & 0.04          & 0.89          & 0.09          & 0.06          & 0.45          & 0.48          & 0.31          & 0.46          & ...           & -0.023517265  & -0.01344240   & -0.0190773832 &  0.030023153  &  0.0112131178 & -0.003130134  & -0.028072548  &  0.001328322  &  0.0066040564 & -1.492538e-04\\\\\n",
       "\t34 & 0.09          & 0.43          & 0.51          & 0.58          & 0.04          & 0.01          & 0.58          & 0.56          & 0.50          & 0.52          & ...           & -0.030629015  & -0.02031043   & -0.0246364519 &  0.019465593  &  0.0087910326 & -0.035756076  &  0.022647875  &  0.015724872  & -0.0106399918 &  1.068558e-03\\\\\n",
       "\\end{tabular}\n"
      ],
      "text/markdown": [
       "\n",
       "| <!--/--> | population | householdsize | racepctblack | racePctWhite | racePctAsian | racePctHisp | agePct12t21 | agePct12t29 | agePct16t24 | agePct65up | ... | PC113 | PC114 | PC115 | PC116 | PC117 | PC118 | PC119 | PC120 | PC121 | PC122 | \n",
       "|---|---|---|---|---|---|\n",
       "| 1 | 0.19          | 0.33          | 0.02          | 0.90          | 0.12          | 0.17          | 0.34          | 0.47          | 0.29          | 0.32          | ...           |  0.032222873  | -0.01330541   | -0.0001686825 |  0.032391962  | -0.0005898588 |  0.004931463  |  0.017115324  | -0.005960130  | -0.0117890466 |  8.307522e-05 | \n",
       "| 17 | 0.15          | 0.31          | 0.40          | 0.63          | 0.14          | 0.06          | 0.58          | 0.72          | 0.65          | 0.47          | ...           |  0.043959946  |  0.05159654   |  0.0308047629 |  0.005696376  |  0.0091422069 | -0.008363946  |  0.003031723  |  0.002218141  | -0.0001473669 | -3.195727e-04 | \n",
       "| 21 | 0.25          | 0.54          | 0.05          | 0.71          | 0.48          | 0.30          | 0.42          | 0.48          | 0.28          | 0.32          | ...           | -0.003551687  | -0.02239379   | -0.0038534411 | -0.011335479  | -0.0243697358 |  0.019353881  |  0.009747820  | -0.000281766  | -0.0105437067 | -5.382938e-04 | \n",
       "| 22 | 1.00          | 0.42          | 0.47          | 0.59          | 0.12          | 0.05          | 0.41          | 0.53          | 0.34          | 0.33          | ...           |  0.088963777  | -0.01257605   |  0.0076797371 |  0.043409359  | -0.0081100177 | -0.008085961  | -0.015288309  |  0.019812731  |  0.0005404360 |  2.299479e-03 | \n",
       "| 24 | 0.11          | 0.43          | 0.04          | 0.89          | 0.09          | 0.06          | 0.45          | 0.48          | 0.31          | 0.46          | ...           | -0.023517265  | -0.01344240   | -0.0190773832 |  0.030023153  |  0.0112131178 | -0.003130134  | -0.028072548  |  0.001328322  |  0.0066040564 | -1.492538e-04 | \n",
       "| 34 | 0.09          | 0.43          | 0.51          | 0.58          | 0.04          | 0.01          | 0.58          | 0.56          | 0.50          | 0.52          | ...           | -0.030629015  | -0.02031043   | -0.0246364519 |  0.019465593  |  0.0087910326 | -0.035756076  |  0.022647875  |  0.015724872  | -0.0106399918 |  1.068558e-03 | \n",
       "\n",
       "\n"
      ],
      "text/plain": [
       "   population householdsize racepctblack racePctWhite racePctAsian racePctHisp\n",
       "1  0.19       0.33          0.02         0.90         0.12         0.17       \n",
       "17 0.15       0.31          0.40         0.63         0.14         0.06       \n",
       "21 0.25       0.54          0.05         0.71         0.48         0.30       \n",
       "22 1.00       0.42          0.47         0.59         0.12         0.05       \n",
       "24 0.11       0.43          0.04         0.89         0.09         0.06       \n",
       "34 0.09       0.43          0.51         0.58         0.04         0.01       \n",
       "   agePct12t21 agePct12t29 agePct16t24 agePct65up ... PC113        PC114      \n",
       "1  0.34        0.47        0.29        0.32       ...  0.032222873 -0.01330541\n",
       "17 0.58        0.72        0.65        0.47       ...  0.043959946  0.05159654\n",
       "21 0.42        0.48        0.28        0.32       ... -0.003551687 -0.02239379\n",
       "22 0.41        0.53        0.34        0.33       ...  0.088963777 -0.01257605\n",
       "24 0.45        0.48        0.31        0.46       ... -0.023517265 -0.01344240\n",
       "34 0.58        0.56        0.50        0.52       ... -0.030629015 -0.02031043\n",
       "   PC115         PC116        PC117         PC118        PC119       \n",
       "1  -0.0001686825  0.032391962 -0.0005898588  0.004931463  0.017115324\n",
       "17  0.0308047629  0.005696376  0.0091422069 -0.008363946  0.003031723\n",
       "21 -0.0038534411 -0.011335479 -0.0243697358  0.019353881  0.009747820\n",
       "22  0.0076797371  0.043409359 -0.0081100177 -0.008085961 -0.015288309\n",
       "24 -0.0190773832  0.030023153  0.0112131178 -0.003130134 -0.028072548\n",
       "34 -0.0246364519  0.019465593  0.0087910326 -0.035756076  0.022647875\n",
       "   PC120        PC121         PC122        \n",
       "1  -0.005960130 -0.0117890466  8.307522e-05\n",
       "17  0.002218141 -0.0001473669 -3.195727e-04\n",
       "21 -0.000281766 -0.0105437067 -5.382938e-04\n",
       "22  0.019812731  0.0005404360  2.299479e-03\n",
       "24  0.001328322  0.0066040564 -1.492538e-04\n",
       "34  0.015724872 -0.0106399918  1.068558e-03"
      ]
     },
     "metadata": {},
     "output_type": "display_data"
    }
   ],
   "source": [
    "#install.packages(\"ggfortify\", repos = c(CRAN=\"https://cran.r-project.org/\"))\n",
    "library(ggfortify) # For fortify()\n",
    "pc.fortify <- fortify(pc)\n",
    "head(pc.fortify)"
   ]
  },
  {
   "cell_type": "markdown",
   "metadata": {},
   "source": [
    "## Visualization of variance explained\n",
    "\n",
    "The first PC explains about 21% of the variance in the data, the second - 16% and so on. We can visualize the variance of each PC (i.e., square of the standard deviation displayed above) as follows:"
   ]
  },
  {
   "cell_type": "code",
   "execution_count": 13,
   "metadata": {
    "collapsed": false
   },
   "outputs": [
    {
     "data": {
      "image/png": "[encoded data removed]",
      "text/plain": [
       "Plot with title \"Variance of the first 10 PCs\""
      ]
     },
     "metadata": {},
     "output_type": "display_data"
    }
   ],
   "source": [
    "plot(pc, main=\"Variance of the first 10 PCs\")"
   ]
  },
  {
   "cell_type": "markdown",
   "metadata": {
    "collapsed": true
   },
   "source": [
    "After the first two PCs, each subsequent PC has a much smaller variance than the first two. To better understand if it is sufficient to study only the first two PCs, we need to examine the cumulative Percent of Variance Explained (PVE) by first few PCs. One rule of thumb for data reduction is to preserve the first PCs that explain at least 80% of the total variance in the data. \n",
    "\n",
    "We can plot the Percent of Variance Explained (PVE) to display the cumulative variance distribution."
   ]
  },
  {
   "cell_type": "code",
   "execution_count": 14,
   "metadata": {
    "collapsed": false
   },
   "outputs": [
    {
     "data": {
      "image/png": "[encoded data removed]",
      "text/plain": [
       "Plot with title \"Scree plot\""
      ]
     },
     "metadata": {},
     "output_type": "display_data"
    }
   ],
   "source": [
    "# Calculate PVE for each PC\n",
    "pve <- pc$sdev^2/sum(pc$sdev^2)\n",
    "# Draw a \"Scree plot\", which shows how quickly the PVE of each subsequent PC declines\n",
    "plot(pve[1:25], type=\"o\", ylab=\"PVE\", xlab=\"PCs\", col=\"red\", main=\"Scree plot\")\n"
   ]
  },
  {
   "cell_type": "markdown",
   "metadata": {},
   "source": [
    "The \"elbow\" in the graph appears to be around the tenth PC. "
   ]
  },
  {
   "cell_type": "code",
   "execution_count": 15,
   "metadata": {
    "collapsed": false
   },
   "outputs": [
    {
     "data": {
      "image/png": "[encoded data removed]",
      "text/plain": [
       "Plot with title \"Cumulative PVE plot\""
      ]
     },
     "metadata": {},
     "output_type": "display_data"
    }
   ],
   "source": [
    "# Plot the Cumulative PVE, which helps illustrate how many PCs are needed to explain at least 80% of the variation in the data\n",
    "plot(cumsum(pve), type=\"o\", ylab=\"Cumulative PVE\", xlab=\"PCs\", col=\"blue\", main=\"Cumulative PVE plot\")"
   ]
  },
  {
   "cell_type": "markdown",
   "metadata": {
    "collapsed": true
   },
   "source": [
    "It takes a little over 10 PCs to explain around 80% of the variance in the data, consistent with the \"elbow\" in the scree plot.\n",
    "\n",
    "## Biplot and ggbiplot\n",
    "\n",
    "A PCA biplot interlays a scatter plot of the observations in the transformed scale and arrows for the loading factors. We will choose the first two PCs for our transformed scale. Below we use the biplot function from the base package. \n",
    "\n",
    "### biplot"
   ]
  },
  {
   "cell_type": "code",
   "execution_count": 18,
   "metadata": {
    "collapsed": false
   },
   "outputs": [
    {
     "data": {
      "image/png": "[encoded data removed]",
      "text/plain": [
       "plot without title"
      ]
     },
     "metadata": {},
     "output_type": "display_data"
    }
   ],
   "source": [
    "# Biplot of the first two PCs where we will display the text labels in a smaller font through cex\n",
    "biplot(pc, scale=0, choices=c(1,2), cex=.5) "
   ]
  },
  {
   "cell_type": "markdown",
   "metadata": {},
   "source": [
    "### Interpreting a PCA biplot\n",
    "The PCA biplot has four axes: \n",
    "\n",
    "* The left and bottom axes correspond to the scores associated with the two PCs as shown on the axis label. The observations on the transformed scale are shown in black. \n",
    "\n",
    "* The right and top axes correspond to the feature loadings for each PC. The loadings for each feature are shown as red arrows starting from the origin. The arrow length approximates the relative feature variance and the angle between two arrows approximates the pairwise correlation between the features (the closer the arrows are, the higher the correlation).  \n",
    "\n",
    "As the answer to this query on Stackexchange illustrates (http://stats.stackexchange.com/questions/141085/positioning-the-arrows-on-a-pca-biplot), the biplot function in R scales all arrows down by a factor of 0.80 and displays the text labels where the arrow endpoints should have been. \n",
    "\n",
    "Based on the figure above, we can see that *PctSpeakEnglOnly* has one of the highest loadings of PC2 and therefore excercises a lot of influence on the PC2 scores. We also see that *PctNotSpeakEnglWell* and *PctForeignBorn* are highly correlated. \n",
    "However, we can not quite read the label of the feature with the largest negative loading on PC2. \n",
    "\n",
    "Overall, the biplot function from the base package is not particularly helpful when there is a large number of original features (here more than one hundred) and a large number of observations. An alternative function from the ggbiplot package provides better illustration. \n",
    "\n",
    "### ggbiplot "
   ]
  },
  {
   "cell_type": "code",
   "execution_count": 22,
   "metadata": {
    "collapsed": false
   },
   "outputs": [
    {
     "data": {},
     "metadata": {},
     "output_type": "display_data"
    },
    {
     "data": {},
     "metadata": {},
     "output_type": "display_data"
    },
    {
     "data": {
      "image/png": "[encoded data removed]",
      "text/plain": [
       "plot without title"
      ]
     },
     "metadata": {},
     "output_type": "display_data"
    },
    {
     "data": {
      "image/png": "[encoded data removed]",
      "text/plain": [
       "plot without title"
      ]
     },
     "metadata": {},
     "output_type": "display_data"
    }
   ],
   "source": [
    "# Load the ggbiplot package\n",
    "#devtools::install_github(\"vqv/ggbiplot\")\n",
    "require(ggbiplot)\n",
    "\n",
    "# Displaying both observations and features\n",
    "ggbiplot(pc, choices=c(1,2), obs.scale = 1, var.scale = 1, var.axes=TRUE, cex=.5)\n",
    "\n",
    "# Displaying only the observations (we suppress the features from displaying by setting var.axes=FALSE)\n",
    "ggbiplot(pc, choices=c(1,2), obs.scale = 1, var.scale = 1, var.axes=FALSE)"
   ]
  },
  {
   "cell_type": "markdown",
   "metadata": {},
   "source": [
    "Ggbiplot allows us to illustrate only the observations mapped on the transformed scale and inspect for clusters of observations. We can further create a factor variable from the continuous crime rate response variable by assigning each observation to its respective quartile. This will let us see if the chosen PCs are conducive to creating clear segmentation among the different crime rate classes. "
   ]
  },
  {
   "cell_type": "code",
   "execution_count": 23,
   "metadata": {
    "collapsed": false
   },
   "outputs": [
    {
     "name": "stderr",
     "output_type": "stream",
     "text": [
      "Loading required package: RColorBrewer\n"
     ]
    },
    {
     "data": {},
     "metadata": {},
     "output_type": "display_data"
    },
    {
     "data": {
      "image/png": "[encoded data removed]",
      "text/plain": [
       "plot without title"
      ]
     },
     "metadata": {},
     "output_type": "display_data"
    }
   ],
   "source": [
    "#install.packages(\"gtools\", repos=\"http://cran.us.r-project.org\")\n",
    "\n",
    "# Represent crime rate as a factor variable - create quartile bins\n",
    "require(gtools)\n",
    "require(RColorBrewer)\n",
    "crime.quartile <- quantcut(crime.rate, q=seq(0,1,by=0.25))\n",
    "\n",
    "ggbiplot(pc, choices=c(1,2), obs.scale = 1, var.scale = 1, var.axes=FALSE,\n",
    "         groups = crime.quartile, ellipse = TRUE, circle = TRUE) +\n",
    "         scale_fill_brewer(palette=\"Set1\") +\n",
    "         theme(legend.direction = 'horizontal', legend.position = 'top')\n"
   ]
  },
  {
   "cell_type": "markdown",
   "metadata": {},
   "source": [
    "Based on the plot above, the first two PCs are not helpful in delineating crime levels. This provides early indication that the use of PCA as a feature reduction method would not be helpful in predicting crime levels. This result is not surprising because the PCs are computed without using any information about the response variable. There exist alternative feature reduction methods that take into account the correlation of the features with the response variable such as Partial Least Squares. These methods are supervised learning methods, which we will study in separate modules.  "
   ]
  }
 ],
 "metadata": {
  "kernelspec": {
   "display_name": "R",
   "language": "R",
   "name": "ir"
  },
  "language_info": {
   "codemirror_mode": "r",
   "file_extension": ".r",
   "mimetype": "text/x-r-source",
   "name": "R",
   "pygments_lexer": "r",
   "version": "3.3.2"
  }
 },
 "nbformat": 4,
 "nbformat_minor": 0
}
